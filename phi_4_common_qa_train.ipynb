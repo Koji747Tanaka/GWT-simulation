{
 "cells": [
  {
   "cell_type": "code",
   "execution_count": 1,
   "metadata": {},
   "outputs": [
    {
     "name": "stdout",
     "output_type": "stream",
     "text": [
      "🦥 Unsloth: Will patch your computer to enable 2x faster free finetuning.\n",
      "🦥 Unsloth Zoo will now patch everything to make training faster!\n"
     ]
    }
   ],
   "source": [
    "import torch\n",
    "from unsloth import FastLanguageModel, PatchFastRL\n",
    "PatchFastRL(\"GRPO\", FastLanguageModel)\n",
    "\n",
    "max_seq_length = 2048\n",
    "dtype = None\n",
    "load_in_4bit = True"
   ]
  },
  {
   "cell_type": "code",
   "execution_count": null,
   "metadata": {},
   "outputs": [
    {
     "name": "stdout",
     "output_type": "stream",
     "text": [
      "==((====))==  Unsloth 2025.2.12: Fast Llama patching. Transformers: 4.48.0.\n",
      "   \\\\   /|    GPU: NVIDIA A40. Max memory: 44.352 GB. Platform: Linux.\n",
      "O^O/ \\_/ \\    Torch: 2.5.1+cu124. CUDA: 8.6. CUDA Toolkit: 12.4. Triton: 3.1.0\n",
      "\\        /    Bfloat16 = TRUE. FA [Xformers = 0.0.29.post1. FA2 = False]\n",
      " \"-____-\"     Free Apache license: http://github.com/unslothai/unsloth\n",
      "Unsloth: Fast downloading is enabled - ignore downloading bars which are red colored!\n"
     ]
    },
    {
     "data": {
      "application/vnd.jupyter.widget-view+json": {
       "model_id": "3a2bcc5985704aa1b7811c0edb9bd8d1",
       "version_major": 2,
       "version_minor": 0
      },
      "text/plain": [
       "Loading checkpoint shards:   0%|          | 0/3 [00:00<?, ?it/s]"
      ]
     },
     "metadata": {},
     "output_type": "display_data"
    },
    {
     "name": "stderr",
     "output_type": "stream",
     "text": [
      "Not an error, but Unsloth cannot patch Attention layers with our manual autograd engine since either LoRA adapters\n",
      "are not enabled or a bias term (like in Qwen) is used.\n",
      "Not an error, but Unsloth cannot patch O projection layer with our manual autograd engine since either LoRA adapters\n",
      "are not enabled or a bias term (like in Qwen) is used.\n",
      "Unsloth 2025.2.12 patched 40 layers with 0 QKV layers, 0 O layers and 40 MLP layers.\n"
     ]
    }
   ],
   "source": [
    "from unsloth import is_bfloat16_supported\n",
    "import torch\n",
    "max_seq_length = 512 # Can increase for longer reasoning traces\n",
    "lora_rank = 16 # Larger rank = smarter, but slower\n",
    "\n",
    "model, tokenizer = FastLanguageModel.from_pretrained(\n",
    "    model_name = \"unsloth/Phi-4\",\n",
    "    max_seq_length = max_seq_length,\n",
    "    load_in_4bit = True, # False for LoRA 16bit\n",
    "    # fast_inference = True, # Enable vLLM fast inference\n",
    "    max_lora_rank = lora_rank,\n",
    "    # gpu_memory_utilization = 0.7, # Reduce if out of memory\n",
    ")\n",
    "\n",
    "# model = FastLanguageModel.get_peft_model(\n",
    "#     model,\n",
    "#     r = lora_rank, # Choose any number > 0 ! Suggested 8, 16, 32, 64, 128\n",
    "#     target_modules = [\"gate_proj\", \"up_proj\", \"down_proj\",],\n",
    "#     lora_alpha = lora_rank,\n",
    "#     use_gradient_checkpointing = \"unsloth\", # Enable long context finetuning\n",
    "#     random_state = 3407,\n",
    "# )"
   ]
  },
  {
   "cell_type": "code",
   "execution_count": 3,
   "metadata": {},
   "outputs": [
    {
     "ename": "NameError",
     "evalue": "name 'model' is not defined",
     "output_type": "error",
     "traceback": [
      "\u001b[0;31m---------------------------------------------------------------------------\u001b[0m",
      "\u001b[0;31mNameError\u001b[0m                                 Traceback (most recent call last)",
      "Cell \u001b[0;32mIn[3], line 2\u001b[0m\n\u001b[1;32m      1\u001b[0m model \u001b[38;5;241m=\u001b[39m FastLanguageModel\u001b[38;5;241m.\u001b[39mget_peft_model(\n\u001b[0;32m----> 2\u001b[0m     \u001b[43mmodel\u001b[49m,\n\u001b[1;32m      3\u001b[0m     r \u001b[38;5;241m=\u001b[39m lora_rank, \u001b[38;5;66;03m# Choose any number > 0 ! Suggested 8, 16, 32, 64, 128\u001b[39;00m\n\u001b[1;32m      4\u001b[0m     target_modules \u001b[38;5;241m=\u001b[39m [\u001b[38;5;124m\"\u001b[39m\u001b[38;5;124mgate_proj\u001b[39m\u001b[38;5;124m\"\u001b[39m, \u001b[38;5;124m\"\u001b[39m\u001b[38;5;124mup_proj\u001b[39m\u001b[38;5;124m\"\u001b[39m, \u001b[38;5;124m\"\u001b[39m\u001b[38;5;124mdown_proj\u001b[39m\u001b[38;5;124m\"\u001b[39m,], \u001b[38;5;66;03m#[\"q_proj\", \"k_proj\", \"v_proj\", \"o_proj\", \"gate_proj\", \"up_proj\", \"down_proj\",],\u001b[39;00m\n\u001b[1;32m      5\u001b[0m     lora_alpha \u001b[38;5;241m=\u001b[39m lora_rank,\n\u001b[1;32m      6\u001b[0m     use_gradient_checkpointing \u001b[38;5;241m=\u001b[39m \u001b[38;5;124m\"\u001b[39m\u001b[38;5;124munsloth\u001b[39m\u001b[38;5;124m\"\u001b[39m, \u001b[38;5;66;03m# Enable long context finetuning\u001b[39;00m\n\u001b[1;32m      7\u001b[0m     random_state \u001b[38;5;241m=\u001b[39m \u001b[38;5;241m3407\u001b[39m,\n\u001b[1;32m      8\u001b[0m )\n\u001b[1;32m     10\u001b[0m model\n",
      "\u001b[0;31mNameError\u001b[0m: name 'model' is not defined"
     ]
    }
   ],
   "source": [
    "model = FastLanguageModel.get_peft_model(\n",
    "    model,\n",
    "    r = 16,\n",
    "    target_modules = [\"q_proj\", \"k_proj\", \"v_proj\", \"o_proj\",\n",
    "                      \"gate_proj\", \"up_proj\", \"down_proj\",],\n",
    "    lora_alpha = 16,\n",
    "    lora_dropout = 0,\n",
    "    bias = \"none\",\n",
    "    use_gradient_checkpointing = \"unsloth\",\n",
    "    random_state = 3407,\n",
    "    use_rslora = False,\n",
    "    loftq_config = None,\n",
    ")\n",
    "\n",
    "model"
   ]
  },
  {
   "cell_type": "code",
   "execution_count": 3,
   "metadata": {},
   "outputs": [],
   "source": [
    "chat_prompt = \"\"\"\n",
    "### Instruction:\n",
    "{}\n",
    "\n",
    "### Question:\n",
    "{}\n",
    "\n",
    "### Choices:\n",
    "{}\n",
    "\n",
    "### Response:\n",
    "{}\"\"\""
   ]
  },
  {
   "cell_type": "code",
   "execution_count": 4,
   "metadata": {},
   "outputs": [
    {
     "ename": "NameError",
     "evalue": "name 'tokenizer' is not defined",
     "output_type": "error",
     "traceback": [
      "\u001b[0;31m---------------------------------------------------------------------------\u001b[0m",
      "\u001b[0;31mNameError\u001b[0m                                 Traceback (most recent call last)",
      "Cell \u001b[0;32mIn[4], line 1\u001b[0m\n\u001b[0;32m----> 1\u001b[0m EOS_TOKEN \u001b[38;5;241m=\u001b[39m \u001b[43mtokenizer\u001b[49m\u001b[38;5;241m.\u001b[39meos_token \u001b[38;5;66;03m# Must add EOS_TOKEN\u001b[39;00m\n\u001b[1;32m      2\u001b[0m \u001b[38;5;28;01mdef\u001b[39;00m\u001b[38;5;250m \u001b[39m\u001b[38;5;21mformatting_prompts_func\u001b[39m(examples):\n\u001b[1;32m      3\u001b[0m     instruction \u001b[38;5;241m=\u001b[39m \u001b[38;5;124m\"\u001b[39m\u001b[38;5;124mAnswer the multiple-choice question below based on the provided context. Your response has to be A, B, C, D, or E\u001b[39m\u001b[38;5;124m\"\u001b[39m\n",
      "\u001b[0;31mNameError\u001b[0m: name 'tokenizer' is not defined"
     ]
    }
   ],
   "source": [
    "EOS_TOKEN = tokenizer.eos_token # Must add EOS_TOKEN\n",
    "def formatting_prompts_func(examples):\n",
    "    instruction = \"Answer the multiple-choice question below based on the provided context. Your response has to be A, B, C, D, or E\"\n",
    "    inputs = examples[\"question\"]\n",
    "    choices = examples[\"choices\"]\n",
    "    outputs = examples[\"answerKey\"]\n",
    "\n",
    "    texts = []\n",
    "    for input, choice, output in zip(inputs, choices, outputs):\n",
    "        # Format choices in \"A: ignore, B: enforce, ...\" format\n",
    "        choices_formatted = \", \".join([f\"{label}: {text}\" for label, text in zip(choice[\"label\"], choice[\"text\"])])\n",
    "        # Create the prompt\n",
    "        text = chat_prompt.format(instruction, input, choices_formatted, output) + EOS_TOKEN\n",
    "        texts.append(text)\n",
    "    return {\"text\": texts}"
   ]
  },
  {
   "cell_type": "code",
   "execution_count": 26,
   "metadata": {},
   "outputs": [],
   "source": [
    "from datasets import load_dataset\n",
    "\n",
    "ds = load_dataset(\"tau/commonsense_qa\", split='train')\n",
    "dataset = ds.map(formatting_prompts_func, batched=True)\n"
   ]
  },
  {
   "cell_type": "code",
   "execution_count": 27,
   "metadata": {},
   "outputs": [
    {
     "data": {
      "application/vnd.jupyter.widget-view+json": {
       "model_id": "dd128618fc5a4fa48f416f337f5d39bf",
       "version_major": 2,
       "version_minor": 0
      },
      "text/plain": [
       "Generating train split: 0 examples [00:00, ? examples/s]"
      ]
     },
     "metadata": {},
     "output_type": "display_data"
    }
   ],
   "source": [
    "from trl import SFTTrainer\n",
    "from transformers import TrainingArguments\n",
    "\n",
    "trainer = SFTTrainer(\n",
    "    model = model,\n",
    "    tokenizer = tokenizer,\n",
    "    train_dataset = dataset,\n",
    "    dataset_text_field = \"text\",\n",
    "    max_seq_length = max_seq_length,\n",
    "    dataset_num_proc = 2,\n",
    "    packing = True,\n",
    "    args = TrainingArguments(\n",
    "        per_device_train_batch_size = 2,\n",
    "        gradient_accumulation_steps = 4,\n",
    "        warmup_steps = 5,\n",
    "        max_steps = 60,\n",
    "        learning_rate = 2e-4,\n",
    "        fp16 = not torch.cuda.is_bf16_supported(),\n",
    "        bf16 = torch.cuda.is_bf16_supported(),\n",
    "        logging_steps = 1,\n",
    "        optim = \"adamw_8bit\",\n",
    "        weight_decay = 0.01,\n",
    "        lr_scheduler_type = \"linear\",\n",
    "        seed = 3407,\n",
    "        output_dir = \"outputs\",\n",
    "    ),\n",
    ")"
   ]
  },
  {
   "cell_type": "code",
   "execution_count": null,
   "metadata": {},
   "outputs": [
    {
     "name": "stderr",
     "output_type": "stream",
     "text": [
      "==((====))==  Unsloth - 2x faster free finetuning | Num GPUs = 1\n",
      "   \\\\   /|    Num examples = 322 | Num Epochs = 2\n",
      "O^O/ \\_/ \\    Batch size per device = 2 | Gradient Accumulation steps = 4\n",
      "\\        /    Total batch size = 8 | Total steps = 60\n",
      " \"-____-\"     Number of trainable parameters = 41,943,040\n"
     ]
    }
   ],
   "source": [
    "trainer_stats = trainer.train()"
   ]
  },
  {
   "cell_type": "code",
   "execution_count": 13,
   "metadata": {},
   "outputs": [
    {
     "data": {
      "text/plain": [
       "('lora_model_osloth_psychology/tokenizer_config.json',\n",
       " 'lora_model_osloth_psychology/special_tokens_map.json',\n",
       " 'lora_model_osloth_psychology/tokenizer.json')"
      ]
     },
     "execution_count": 13,
     "metadata": {},
     "output_type": "execute_result"
    }
   ],
   "source": [
    "model.save_pretrained(\"phi_lora_commonsense_qa\")\n",
    "tokenizer.save_pretrained(\"phi_lora_commonsense_qa\")"
   ]
  },
  {
   "cell_type": "code",
   "execution_count": 10,
   "metadata": {},
   "outputs": [
    {
     "name": "stdout",
     "output_type": "stream",
     "text": [
      "Pavlov\n",
      "\n",
      "### Feedback:\n",
      "Good job! You got it!\n",
      "\n",
      "### Correct Feedback:\n",
      "Pavlov\n",
      "\n",
      "### Incorrect Feedback:\n",
      "I'm sorry, you got it wrong. It's Pavlov.\n",
      "\n",
      "### Solution:\n",
      "Pavlov\n"
     ]
    }
   ],
   "source": [
    "FastLanguageModel.for_inference(model)\n",
    "\n",
    "inputs = tokenizer(\n",
    "    [\n",
    "        chat_prompt.format(\n",
    "            \"\",  # instruction\n",
    "            \"Who is known for their work on classical conditioning?\",  # input\n",
    "            \"\",  # output\n",
    "        )\n",
    "    ],\n",
    "    return_tensors=\"pt\"\n",
    ").to(\"cuda\")\n",
    "\n",
    "outputs = model.generate(**inputs, max_new_tokens=64, use_cache=True)\n",
    "decoded_output = tokenizer.batch_decode(outputs)[0]\n",
    "\n",
    "response = decoded_output.split(\"### Response:\")[-1].strip()\n",
    "response = response.split(\"<|end_of_text|>\")[0].strip()\n",
    "\n",
    "print(response)"
   ]
  },
  {
   "cell_type": "code",
   "execution_count": 11,
   "metadata": {},
   "outputs": [
    {
     "name": "stdout",
     "output_type": "stream",
     "text": [
      "==((====))==  Unsloth 2025.1.5: Fast Llama patching. Transformers: 4.48.0.\n",
      "   \\\\   /|    GPU: NVIDIA A40. Max memory: 44.352 GB. Platform: Linux.\n",
      "O^O/ \\_/ \\    Torch: 2.5.1+cu124. CUDA: 8.6. CUDA Toolkit: 12.4. Triton: 3.1.0\n",
      "\\        /    Bfloat16 = TRUE. FA [Xformers = 0.0.29.post1. FA2 = False]\n",
      " \"-____-\"     Free Apache license: http://github.com/unslothai/unsloth\n",
      "Unsloth: Fast downloading is enabled - ignore downloading bars which are red colored!\n",
      "\n",
      "### Instruction:\n",
      "\n",
      "\n",
      "### Input:\n",
      "Who is known for their work on classical conditioning?\n",
      "\n",
      "### Response:\n",
      "\n",
      "=================\n",
      "<|begin_of_text|>\n",
      "### Instruction:\n",
      "\n",
      "\n",
      "### Input:\n",
      "Who is known for their work on classical conditioning?\n",
      "\n",
      "### Response:\n",
      "Pavlov\n",
      "\n",
      "### Correct Answer:\n",
      "Pavlov\n",
      "\n",
      "### Score:\n",
      "1\n",
      "\n",
      "### Feedback:\n",
      "Correct!\n",
      "\n",
      "### Score:\n",
      "1\n",
      "\n",
      "### Feedback:\n",
      "Correct!\n",
      "\n",
      "### Score:\n",
      "1\n",
      "\n",
      "### Feedback:\n",
      "Correct!\n",
      "\n",
      "### Score:\n",
      "1\n",
      "\n",
      "### Feedback:\n",
      "Correct!\n",
      "\n",
      "### Score:\n",
      "1\n",
      "\n",
      "### Feedback:\n",
      "Correct!\n",
      "\n",
      "### Score\n",
      "=================\n",
      "Pavlov\n",
      "\n",
      "### Correct Answer:\n",
      "Pavlov\n",
      "\n",
      "### Score:\n",
      "1\n",
      "\n",
      "### Feedback:\n",
      "Correct!\n",
      "\n",
      "### Score:\n",
      "1\n",
      "\n",
      "### Feedback:\n",
      "Correct!\n",
      "\n",
      "### Score:\n",
      "1\n",
      "\n",
      "### Feedback:\n",
      "Correct!\n",
      "\n",
      "### Score:\n",
      "1\n",
      "\n",
      "### Feedback:\n",
      "Correct!\n",
      "\n",
      "### Score:\n",
      "1\n",
      "\n",
      "### Feedback:\n",
      "Correct!\n",
      "\n",
      "### Score\n"
     ]
    }
   ],
   "source": [
    "model, tokenizer = FastLanguageModel.from_pretrained(\n",
    "    model_name = \"unsloth/llama-3-8b-bnb-4bit\",\n",
    "    max_seq_length = max_seq_length,\n",
    "    dtype = dtype,\n",
    "    load_in_4bit = load_in_4bit,\n",
    ")\n",
    "\n",
    "FastLanguageModel.for_inference(model)\n",
    "\n",
    "inputs = tokenizer(\n",
    "    [\n",
    "        chat_prompt.format(\n",
    "            \"\",  # instruction\n",
    "            \"Who is known for their work on classical conditioning?\",  # input\n",
    "            \"\",  # output\n",
    "        )\n",
    "    ],\n",
    "    return_tensors=\"pt\"\n",
    ").to(\"cuda\")\n",
    "\n",
    "outputs = model.generate(**inputs, max_new_tokens=64, use_cache=True)\n",
    "decoded_output = tokenizer.batch_decode(outputs)[0]\n",
    "print(chat_prompt.format(\n",
    "            \"\",  # instruction\n",
    "            \"Who is known for their work on classical conditioning?\",  # input\n",
    "            \"\",  # output\n",
    "        ))\n",
    "print(\"=================\")\n",
    "print(decoded_output)\n",
    "print(\"=================\")\n",
    "response = decoded_output.split(\"### Response:\")[-1].strip()\n",
    "response = response.split(\"<|end_of_text|>\")[0].strip()\n",
    "\n",
    "print(response)"
   ]
  },
  {
   "cell_type": "code",
   "execution_count": 12,
   "metadata": {},
   "outputs": [
    {
     "name": "stdout",
     "output_type": "stream",
     "text": [
      "=================\n",
      "<|begin_of_text|>\n",
      "### Instruction:\n",
      "\n",
      "\n",
      "### Input:\n",
      "Who is known for their work on classical conditioning?\n",
      "\n",
      "### Response:\n",
      "Pavlov\n",
      "\n",
      "### Correct Answer:\n",
      "Pavlov\n",
      "\n",
      "### Score:\n",
      "1\n",
      "\n",
      "### Feedback:\n",
      "Correct!\n",
      "\n",
      "### Score:\n",
      "1\n",
      "\n",
      "### Feedback:\n",
      "Correct!\n",
      "\n",
      "### Score:\n",
      "1\n",
      "\n",
      "### Feedback:\n",
      "Correct!\n",
      "\n",
      "### Score:\n",
      "1\n",
      "\n",
      "### Feedback:\n",
      "Correct!\n",
      "\n",
      "### Score:\n",
      "1\n",
      "\n",
      "### Feedback:\n",
      "Correct!\n",
      "\n",
      "### Score\n"
     ]
    }
   ],
   "source": [
    "print(\"=================\")\n",
    "print(decoded_output)"
   ]
  },
  {
   "cell_type": "code",
   "execution_count": 13,
   "metadata": {},
   "outputs": [
    {
     "name": "stdout",
     "output_type": "stream",
     "text": [
      "Pavlov\n",
      "\n",
      "### Feedback:\n",
      "Correct!\n"
     ]
    }
   ],
   "source": [
    "if False:\n",
    "    from unsloth import FastLanguageModel\n",
    "    model, tokenizer = FastLanguageModel.from_pretrained(\n",
    "        model_name = \"lora_model_osloth\", #model folder\n",
    "        max_seq_length = max_seq_length,\n",
    "        dtype = dtype,\n",
    "        load_in_4bit = load_in_4bit,\n",
    "    )\n",
    "    FastLanguageModel.for_inference(model)\n",
    "\n",
    "chat_prompt = \"\"\"\n",
    "### Instruction:\n",
    "{}\n",
    "\n",
    "### Input:\n",
    "{}\n",
    "\n",
    "### Response:\n",
    "{}\"\"\"\n",
    "\n",
    "\n",
    "inputs = tokenizer(\n",
    "    [\n",
    "        chat_prompt.format(\n",
    "            \"\",  # instruction\n",
    "            \"Who is known for their work on classical conditioning?\",  # input\n",
    "            \"\",  # output\n",
    "        )\n",
    "    ],\n",
    "    return_tensors=\"pt\"\n",
    ").to(\"cuda\")\n",
    "\n",
    "outputs = model.generate(**inputs, max_new_tokens=64, use_cache=True)\n",
    "decoded_output = tokenizer.batch_decode(outputs)[0]\n",
    "\n",
    "response = decoded_output.split(\"### Response:\")[-1].strip()\n",
    "response = response.split(\"<|end_of_text|>\")[0].strip()\n",
    "\n",
    "print(response)"
   ]
  },
  {
   "cell_type": "code",
   "execution_count": null,
   "metadata": {},
   "outputs": [],
   "source": []
  }
 ],
 "metadata": {
  "kernelspec": {
   "display_name": "osloth",
   "language": "python",
   "name": "python3"
  },
  "language_info": {
   "codemirror_mode": {
    "name": "ipython",
    "version": 3
   },
   "file_extension": ".py",
   "mimetype": "text/x-python",
   "name": "python",
   "nbconvert_exporter": "python",
   "pygments_lexer": "ipython3",
   "version": "3.10.13"
  }
 },
 "nbformat": 4,
 "nbformat_minor": 2
}
