{
 "cells": [
  {
   "cell_type": "code",
   "execution_count": 1,
   "metadata": {},
   "outputs": [],
   "source": [
    "from datasets import load_dataset\n",
    "import torch\n",
    "import os\n",
    "import pandas as pd\n",
    "from utils import preprocess_qa, RestrictToValidTokens\n",
    "pd.options.display.max_colwidth = None\n",
    "hf_auth_token = os.getenv(\"HF_AUTH_TOKEN\")\n",
    "ds = load_dataset(\"tau/commonsense_qa\")"
   ]
  },
  {
   "cell_type": "code",
   "execution_count": 2,
   "metadata": {},
   "outputs": [],
   "source": [
    "trained_folder = \"./fine-tuned/llama-qa-lora_overfit_100\""
   ]
  },
  {
   "cell_type": "code",
   "execution_count": 3,
   "metadata": {},
   "outputs": [
    {
     "name": "stderr",
     "output_type": "stream",
     "text": [
      "`low_cpu_mem_usage` was None, now default to True since model is quantized.\n"
     ]
    },
    {
     "data": {
      "application/vnd.jupyter.widget-view+json": {
       "model_id": "e0ed2c82dce54752b608ec8cfd60b395",
       "version_major": 2,
       "version_minor": 0
      },
      "text/plain": [
       "Loading checkpoint shards:   0%|          | 0/4 [00:00<?, ?it/s]"
      ]
     },
     "metadata": {},
     "output_type": "display_data"
    },
    {
     "name": "stderr",
     "output_type": "stream",
     "text": [
      "The new embeddings will be initialized from a multivariate normal distribution that has old embeddings' mean and covariance. As described in this article: https://nlp.stanford.edu/~johnhew/vocab-expansion.html. To disable this, use `mean_resizing=False`\n",
      "The new lm_head weights will be initialized from a multivariate normal distribution that has old embeddings' mean and covariance. As described in this article: https://nlp.stanford.edu/~johnhew/vocab-expansion.html. To disable this, use `mean_resizing=False`\n"
     ]
    },
    {
     "name": "stdout",
     "output_type": "stream",
     "text": [
      "trainable params: 3,407,872 || all params: 8,033,677,312 || trainable%: 0.0424\n"
     ]
    }
   ],
   "source": [
    "from transformers import AutoTokenizer, AutoModelForCausalLM, BitsAndBytesConfig\n",
    "from peft import PeftModel\n",
    "\n",
    "# Load the tokenizer\n",
    "tokenizer = AutoTokenizer.from_pretrained(trained_folder)\n",
    "\n",
    "# Ensure the pad token is consistent\n",
    "if tokenizer.pad_token_id is None:\n",
    "    tokenizer.add_special_tokens({\"pad_token\": \"<|pad|>\"})\n",
    "    tokenizer.pad_token_id = tokenizer.convert_tokens_to_ids(\"<|pad|>\")\n",
    "\n",
    "# Load the base model\n",
    "bnb_config = BitsAndBytesConfig(\n",
    "    load_in_8bit=True,  \n",
    "    llm_int8_threshold=6.0  \n",
    ")\n",
    "\n",
    "base_model = AutoModelForCausalLM.from_pretrained(\n",
    "    \"meta-llama/Meta-Llama-3-8B-Instruct\",\n",
    "    cache_dir=\"/fs03/yu60/kojitanaka/model_cache\",\n",
    "    quantization_config=bnb_config\n",
    ")\n",
    "\n",
    "base_model.resize_token_embeddings(len(tokenizer))\n",
    "\n",
    "# Load the LoRA adapter correctly\n",
    "model = PeftModel.from_pretrained(\n",
    "    base_model,\n",
    "    trained_folder,\n",
    "    is_trainable=True\n",
    ")\n",
    "\n",
    "model.print_trainable_parameters()"
   ]
  },
  {
   "cell_type": "code",
   "execution_count": 4,
   "metadata": {},
   "outputs": [
    {
     "name": "stderr",
     "output_type": "stream",
     "text": [
      "Setting `pad_token_id` to `eos_token_id`:128009 for open-end generation.\n"
     ]
    },
    {
     "name": "stderr",
     "output_type": "stream",
     "text": [
      "Setting `pad_token_id` to `eos_token_id`:128009 for open-end generation.\n",
      "Setting `pad_token_id` to `eos_token_id`:128009 for open-end generation.\n"
     ]
    },
    {
     "name": "stdout",
     "output_type": "stream",
     "text": [
      "Prediction: E, Ground Truth: A\n",
      "Progress: 1/16\n",
      "Prediction: B, Ground Truth: B\n",
      "Progress: 2/16\n"
     ]
    },
    {
     "name": "stderr",
     "output_type": "stream",
     "text": [
      "Setting `pad_token_id` to `eos_token_id`:128009 for open-end generation.\n",
      "Setting `pad_token_id` to `eos_token_id`:128009 for open-end generation.\n"
     ]
    },
    {
     "name": "stdout",
     "output_type": "stream",
     "text": [
      "Prediction: B, Ground Truth: A\n",
      "Progress: 3/16\n",
      "Prediction: D, Ground Truth: D\n",
      "Progress: 4/16\n"
     ]
    },
    {
     "name": "stderr",
     "output_type": "stream",
     "text": [
      "Setting `pad_token_id` to `eos_token_id`:128009 for open-end generation.\n",
      "Setting `pad_token_id` to `eos_token_id`:128009 for open-end generation.\n"
     ]
    },
    {
     "name": "stdout",
     "output_type": "stream",
     "text": [
      "Prediction: C, Ground Truth: C\n",
      "Progress: 5/16\n",
      "Prediction: D, Ground Truth: D\n",
      "Progress: 6/16\n"
     ]
    },
    {
     "name": "stderr",
     "output_type": "stream",
     "text": [
      "Setting `pad_token_id` to `eos_token_id`:128009 for open-end generation.\n",
      "Setting `pad_token_id` to `eos_token_id`:128009 for open-end generation.\n"
     ]
    },
    {
     "name": "stdout",
     "output_type": "stream",
     "text": [
      "Prediction: E, Ground Truth: E\n",
      "Progress: 7/16\n",
      "Prediction: B, Ground Truth: B\n",
      "Progress: 8/16\n"
     ]
    },
    {
     "name": "stderr",
     "output_type": "stream",
     "text": [
      "Setting `pad_token_id` to `eos_token_id`:128009 for open-end generation.\n",
      "Setting `pad_token_id` to `eos_token_id`:128009 for open-end generation.\n"
     ]
    },
    {
     "name": "stdout",
     "output_type": "stream",
     "text": [
      "Prediction: E, Ground Truth: E\n",
      "Progress: 9/16\n",
      "Prediction: D, Ground Truth: D\n",
      "Progress: 10/16\n"
     ]
    },
    {
     "name": "stderr",
     "output_type": "stream",
     "text": [
      "Setting `pad_token_id` to `eos_token_id`:128009 for open-end generation.\n",
      "Setting `pad_token_id` to `eos_token_id`:128009 for open-end generation.\n"
     ]
    },
    {
     "name": "stdout",
     "output_type": "stream",
     "text": [
      "Prediction: D, Ground Truth: B\n",
      "Progress: 11/16\n",
      "Prediction: C, Ground Truth: C\n",
      "Progress: 12/16\n"
     ]
    },
    {
     "name": "stderr",
     "output_type": "stream",
     "text": [
      "Setting `pad_token_id` to `eos_token_id`:128009 for open-end generation.\n",
      "Setting `pad_token_id` to `eos_token_id`:128009 for open-end generation.\n"
     ]
    },
    {
     "name": "stdout",
     "output_type": "stream",
     "text": [
      "Prediction: C, Ground Truth: C\n",
      "Progress: 13/16\n",
      "Prediction: A, Ground Truth: A\n",
      "Progress: 14/16\n"
     ]
    },
    {
     "name": "stderr",
     "output_type": "stream",
     "text": [
      "Setting `pad_token_id` to `eos_token_id`:128009 for open-end generation.\n"
     ]
    },
    {
     "name": "stdout",
     "output_type": "stream",
     "text": [
      "Prediction: C, Ground Truth: C\n",
      "Progress: 15/16\n",
      "Prediction: D, Ground Truth: D\n",
      "Progress: 16/16\n",
      "\n",
      "Accuracy: 81.25%\n"
     ]
    }
   ],
   "source": [
    "from transformers import LogitsProcessorList, LogitsProcessor\n",
    "\n",
    "tokenized_ds = ds.map(preprocess_qa)\n",
    "# Convert valid tokens to token IDs\n",
    "valid_tokens = [tokenizer.convert_tokens_to_ids(token) for token in ['A', 'B', 'C', 'D', 'E']]\n",
    "\n",
    "# Instantiate the logits processor with valid tokens\n",
    "logits_processor = LogitsProcessorList([RestrictToValidTokens(valid_tokens)])\n",
    "\n",
    "correct_predictions = 0\n",
    "sample_texts = tokenized_ds['train']['text']\n",
    "ground_truths = tokenized_ds['train']['target_text']\n",
    "\n",
    "size = 16\n",
    "for i in range(0, size):\n",
    "    sample_text = sample_texts[i]\n",
    "    ground_truth = ground_truths[i].strip()\n",
    "\n",
    "    inputs = tokenizer(sample_text, return_tensors=\"pt\").to(model.device)\n",
    "    with torch.no_grad():\n",
    "        outputs = model.generate(**inputs, \n",
    "                                 max_new_tokens=1, \n",
    "                                 eos_token_id=tokenizer.eos_token_id, \n",
    "                                 top_k=1,\n",
    "                                 logits_processor=logits_processor\n",
    "                                 )\n",
    "        generated_tokens = outputs[0][inputs['input_ids'].shape[1]:]\n",
    "        prediction_text = tokenizer.decode(generated_tokens, skip_special_tokens=True)\n",
    "        if prediction_text == ground_truth:\n",
    "            correct_predictions += 1\n",
    "        \n",
    "        print(f\"Prediction: {prediction_text}, Ground Truth: {ground_truth}\")\n",
    "        print(f\"Progress: {i + 1}/{size}\")\n",
    "\n",
    "accuracy = correct_predictions / size * 100\n",
    "print(f\"\\nAccuracy: {accuracy:.2f}%\")"
   ]
  },
  {
   "cell_type": "code",
   "execution_count": null,
   "metadata": {},
   "outputs": [],
   "source": []
  },
  {
   "cell_type": "code",
   "execution_count": null,
   "metadata": {},
   "outputs": [],
   "source": []
  },
  {
   "cell_type": "code",
   "execution_count": null,
   "metadata": {},
   "outputs": [],
   "source": []
  }
 ],
 "metadata": {
  "kernelspec": {
   "display_name": "llama_env",
   "language": "python",
   "name": "python3"
  },
  "language_info": {
   "codemirror_mode": {
    "name": "ipython",
    "version": 3
   },
   "file_extension": ".py",
   "mimetype": "text/x-python",
   "name": "python",
   "nbconvert_exporter": "python",
   "pygments_lexer": "ipython3",
   "version": "3.9.16"
  }
 },
 "nbformat": 4,
 "nbformat_minor": 2
}
