{
 "cells": [
  {
   "cell_type": "code",
   "execution_count": 1,
   "metadata": {},
   "outputs": [],
   "source": [
    "from datasets import load_dataset\n",
    "import torch\n",
    "import os\n",
    "import pandas as pd\n",
    "from utils import preprocess_qa, RestrictToValidTokens\n",
    "import torch\n",
    "import random\n",
    "import numpy as np\n",
    "\n",
    "# Fix all seeds\n",
    "seed = 42\n",
    "torch.manual_seed(seed)\n",
    "random.seed(seed)\n",
    "np.random.seed(seed)\n",
    "torch.cuda.manual_seed_all(seed)\n",
    "pd.options.display.max_colwidth = None\n",
    "hf_auth_token = os.getenv(\"HF_AUTH_TOKEN\")\n",
    "ds = load_dataset(\"tau/commonsense_qa\")"
   ]
  },
  {
   "cell_type": "code",
   "execution_count": 2,
   "metadata": {},
   "outputs": [],
   "source": [
    "trained_folder = \"./fine-tuned/llama-qa-lora_16\""
   ]
  },
  {
   "cell_type": "code",
   "execution_count": 3,
   "metadata": {},
   "outputs": [
    {
     "name": "stderr",
     "output_type": "stream",
     "text": [
      "`low_cpu_mem_usage` was None, now default to True since model is quantized.\n"
     ]
    },
    {
     "data": {
      "application/vnd.jupyter.widget-view+json": {
       "model_id": "5d16474773314f55b69c00f8441ebb79",
       "version_major": 2,
       "version_minor": 0
      },
      "text/plain": [
       "Loading checkpoint shards:   0%|          | 0/4 [00:00<?, ?it/s]"
      ]
     },
     "metadata": {},
     "output_type": "display_data"
    },
    {
     "name": "stderr",
     "output_type": "stream",
     "text": [
      "The new embeddings will be initialized from a multivariate normal distribution that has old embeddings' mean and covariance. As described in this article: https://nlp.stanford.edu/~johnhew/vocab-expansion.html. To disable this, use `mean_resizing=False`\n",
      "The new lm_head weights will be initialized from a multivariate normal distribution that has old embeddings' mean and covariance. As described in this article: https://nlp.stanford.edu/~johnhew/vocab-expansion.html. To disable this, use `mean_resizing=False`\n"
     ]
    },
    {
     "name": "stdout",
     "output_type": "stream",
     "text": [
      "trainable params: 6,815,744 || all params: 8,037,085,184 || trainable%: 0.0848\n"
     ]
    }
   ],
   "source": [
    "from transformers import AutoTokenizer, AutoModelForCausalLM, BitsAndBytesConfig\n",
    "from peft import PeftModel\n",
    "\n",
    "# Load the tokenizer\n",
    "tokenizer = AutoTokenizer.from_pretrained(trained_folder)\n",
    "\n",
    "# Ensure the pad token is consistent\n",
    "if tokenizer.pad_token_id is None:\n",
    "    tokenizer.add_special_tokens({\"pad_token\": \"<|pad|>\"})\n",
    "    tokenizer.pad_token_id = tokenizer.convert_tokens_to_ids(\"<|pad|>\")\n",
    "\n",
    "# Load the base model\n",
    "bnb_config = BitsAndBytesConfig(\n",
    "    load_in_8bit=True,  \n",
    "    llm_int8_threshold=6.0  \n",
    ")\n",
    "\n",
    "base_model = AutoModelForCausalLM.from_pretrained(\n",
    "    \"meta-llama/Meta-Llama-3-8B-Instruct\",\n",
    "    cache_dir=\"/fs03/yu60/kojitanaka/model_cache\",\n",
    "    quantization_config=bnb_config\n",
    ")\n",
    "\n",
    "base_model.resize_token_embeddings(len(tokenizer))\n",
    "\n",
    "# Load the LoRA adapter correctly\n",
    "model = PeftModel.from_pretrained(\n",
    "    base_model,\n",
    "    trained_folder,\n",
    "    is_trainable=True\n",
    ")\n",
    "\n",
    "model.print_trainable_parameters()"
   ]
  },
  {
   "cell_type": "code",
   "execution_count": 4,
   "metadata": {},
   "outputs": [
    {
     "name": "stderr",
     "output_type": "stream",
     "text": [
      "/home/ktanaka/yu60_scratch/kojitanaka/llama_env/lib64/python3.9/site-packages/transformers/generation/configuration_utils.py:628: UserWarning: `do_sample` is set to `False`. However, `temperature` is set to `0.0` -- this flag is only used in sample-based generation modes. You should set `do_sample=True` or unset `temperature`.\n",
      "  warnings.warn(\n",
      "/home/ktanaka/yu60_scratch/kojitanaka/llama_env/lib64/python3.9/site-packages/transformers/generation/configuration_utils.py:633: UserWarning: `do_sample` is set to `False`. However, `top_p` is set to `0.9` -- this flag is only used in sample-based generation modes. You should set `do_sample=True` or unset `top_p`.\n",
      "  warnings.warn(\n",
      "Setting `pad_token_id` to `eos_token_id`:128009 for open-end generation.\n"
     ]
    },
    {
     "name": "stderr",
     "output_type": "stream",
     "text": [
      "Setting `pad_token_id` to `eos_token_id`:128009 for open-end generation.\n",
      "Setting `pad_token_id` to `eos_token_id`:128009 for open-end generation.\n"
     ]
    },
    {
     "name": "stdout",
     "output_type": "stream",
     "text": [
      "prediction_text repr: 'A'\n",
      "ground_truth repr:   'A'\n",
      "Progress: 1/16\n",
      "\n",
      "prediction_text repr: 'B'\n",
      "ground_truth repr:   'B'\n",
      "Progress: 2/16\n",
      "\n"
     ]
    },
    {
     "name": "stderr",
     "output_type": "stream",
     "text": [
      "Setting `pad_token_id` to `eos_token_id`:128009 for open-end generation.\n",
      "Setting `pad_token_id` to `eos_token_id`:128009 for open-end generation.\n"
     ]
    },
    {
     "name": "stdout",
     "output_type": "stream",
     "text": [
      "prediction_text repr: 'A'\n",
      "ground_truth repr:   'A'\n",
      "Progress: 3/16\n",
      "\n",
      "prediction_text repr: 'D'\n",
      "ground_truth repr:   'D'\n",
      "Progress: 4/16\n",
      "\n"
     ]
    },
    {
     "name": "stderr",
     "output_type": "stream",
     "text": [
      "Setting `pad_token_id` to `eos_token_id`:128009 for open-end generation.\n",
      "Setting `pad_token_id` to `eos_token_id`:128009 for open-end generation.\n"
     ]
    },
    {
     "name": "stdout",
     "output_type": "stream",
     "text": [
      "prediction_text repr: 'C'\n",
      "ground_truth repr:   'C'\n",
      "Progress: 5/16\n",
      "\n",
      "prediction_text repr: 'D'\n",
      "ground_truth repr:   'D'\n",
      "Progress: 6/16\n",
      "\n"
     ]
    },
    {
     "name": "stderr",
     "output_type": "stream",
     "text": [
      "Setting `pad_token_id` to `eos_token_id`:128009 for open-end generation.\n",
      "Setting `pad_token_id` to `eos_token_id`:128009 for open-end generation.\n"
     ]
    },
    {
     "name": "stdout",
     "output_type": "stream",
     "text": [
      "prediction_text repr: 'E'\n",
      "ground_truth repr:   'E'\n",
      "Progress: 7/16\n",
      "\n",
      "prediction_text repr: 'D'\n",
      "ground_truth repr:   'B'\n",
      "Progress: 8/16\n",
      "\n"
     ]
    },
    {
     "name": "stderr",
     "output_type": "stream",
     "text": [
      "Setting `pad_token_id` to `eos_token_id`:128009 for open-end generation.\n",
      "Setting `pad_token_id` to `eos_token_id`:128009 for open-end generation.\n"
     ]
    },
    {
     "name": "stdout",
     "output_type": "stream",
     "text": [
      "prediction_text repr: 'E'\n",
      "ground_truth repr:   'E'\n",
      "Progress: 9/16\n",
      "\n",
      "prediction_text repr: 'D'\n",
      "ground_truth repr:   'D'\n",
      "Progress: 10/16\n",
      "\n"
     ]
    },
    {
     "name": "stderr",
     "output_type": "stream",
     "text": [
      "Setting `pad_token_id` to `eos_token_id`:128009 for open-end generation.\n",
      "Setting `pad_token_id` to `eos_token_id`:128009 for open-end generation.\n"
     ]
    },
    {
     "name": "stdout",
     "output_type": "stream",
     "text": [
      "prediction_text repr: 'A'\n",
      "ground_truth repr:   'B'\n",
      "Progress: 11/16\n",
      "\n",
      "prediction_text repr: 'A'\n",
      "ground_truth repr:   'C'\n",
      "Progress: 12/16\n",
      "\n"
     ]
    },
    {
     "name": "stderr",
     "output_type": "stream",
     "text": [
      "Setting `pad_token_id` to `eos_token_id`:128009 for open-end generation.\n",
      "Setting `pad_token_id` to `eos_token_id`:128009 for open-end generation.\n"
     ]
    },
    {
     "name": "stdout",
     "output_type": "stream",
     "text": [
      "prediction_text repr: 'A'\n",
      "ground_truth repr:   'C'\n",
      "Progress: 13/16\n",
      "\n",
      "prediction_text repr: 'A'\n",
      "ground_truth repr:   'A'\n",
      "Progress: 14/16\n",
      "\n"
     ]
    },
    {
     "name": "stderr",
     "output_type": "stream",
     "text": [
      "Setting `pad_token_id` to `eos_token_id`:128009 for open-end generation.\n"
     ]
    },
    {
     "name": "stdout",
     "output_type": "stream",
     "text": [
      "prediction_text repr: 'C'\n",
      "ground_truth repr:   'C'\n",
      "Progress: 15/16\n",
      "\n",
      "prediction_text repr: 'D'\n",
      "ground_truth repr:   'D'\n",
      "Progress: 16/16\n",
      "\n",
      "\n",
      "Accuracy: 75.00% on the first 100 training samples.\n"
     ]
    }
   ],
   "source": [
    "from transformers import LogitsProcessorList, LogitsProcessor\n",
    "\n",
    "tokenized_ds = ds.map(preprocess_qa)\n",
    "\n",
    "valid_tokens = [tokenizer.convert_tokens_to_ids(tk) for tk in ['A', 'B', 'C', 'D', 'E']]  \n",
    "logits_processor = LogitsProcessorList([RestrictToValidTokens(valid_tokens)])\n",
    "\n",
    "model.eval()  # switch to eval mode\n",
    "sample_texts = tokenized_ds['train']['text'][:16]\n",
    "ground_truths = tokenized_ds['train']['target_text'][:16]\n",
    "\n",
    "correct_predictions = 0\n",
    "\n",
    "for i, (sample_text, ground_truth) in enumerate(zip(sample_texts, ground_truths)):\n",
    "    inputs = tokenizer(sample_text, return_tensors=\"pt\").to(model.device)\n",
    "    with torch.no_grad():\n",
    "        outputs = model.generate(\n",
    "            **inputs,\n",
    "            max_new_tokens=1,\n",
    "            eos_token_id=tokenizer.eos_token_id,\n",
    "            do_sample=False,       # Greedy decoding\n",
    "            temperature=0.0,\n",
    "            # logits_processor=logits_processor\n",
    "        )\n",
    "    generated_tokens = outputs[0][inputs['input_ids'].shape[1]:]\n",
    "    prediction_text = tokenizer.decode(generated_tokens, skip_special_tokens=True).strip()\n",
    "\n",
    "    print(f\"prediction_text repr: {repr(prediction_text)}\")\n",
    "    print(f\"ground_truth repr:   {repr(ground_truth.strip())}\")\n",
    "\n",
    "    if prediction_text == ground_truth.strip():\n",
    "        correct_predictions += 1\n",
    "        \n",
    "    print(f\"Progress: {i + 1}/{len(sample_texts)}\\n\")\n",
    "\n",
    "accuracy = correct_predictions / len(sample_texts) * 100\n",
    "print(f\"\\nAccuracy: {accuracy:.2f}% on the first 100 training samples.\")"
   ]
  },
  {
   "cell_type": "code",
   "execution_count": 5,
   "metadata": {},
   "outputs": [
    {
     "name": "stdout",
     "output_type": "stream",
     "text": [
      "Decoded input with special characters:\n",
      "'<|begin_of_text|>Question: The sanctions against the school were a punishing blow, and they seemed to what the efforts the school had made to change?. Options: A: ignore, B: enforce, C: authoritarian, D: yell at, E: avoid,. Return only the letter corresponding to the correct answer (A, B, C, D, or E). The answer is <|pad|><|pad|><|pad|><|pad|><|pad|><|pad|><|pad|><|pad|><|pad|><|pad|><|pad|><|pad|><|pad|><|pad|><|pad|><|pad|><|pad|><|pad|><|pad|><|pad|><|pad|><|pad|><|pad|><|pad|><|pad|><|pad|><|pad|><|pad|><|pad|><|pad|><|pad|><|pad|><|pad|><|pad|><|pad|><|pad|><|pad|><|pad|><|pad|><|pad|><|pad|><|pad|><|pad|><|pad|><|pad|><|pad|><|pad|><|pad|><|pad|><|pad|><|pad|><|pad|><|pad|><|pad|><|pad|><|pad|><|pad|><|pad|><|pad|><|pad|><|pad|><|pad|><|pad|><|pad|><|pad|><|pad|><|pad|><|pad|><|pad|><|pad|><|pad|><|pad|><|pad|><|pad|><|pad|><|pad|><|pad|><|pad|><|pad|><|pad|><|pad|><|pad|><|pad|><|pad|><|pad|><|pad|><|pad|><|pad|><|pad|><|pad|><|pad|><|pad|><|pad|><|pad|><|pad|><|pad|><|pad|><|pad|><|pad|><|pad|><|pad|><|pad|><|pad|><|pad|><|pad|><|pad|><|pad|><|pad|><|pad|><|pad|><|pad|><|pad|><|pad|><|pad|><|pad|><|pad|><|pad|><|pad|><|pad|><|pad|><|pad|><|pad|><|pad|><|pad|><|pad|><|pad|><|pad|><|pad|><|pad|><|pad|><|pad|><|pad|><|pad|><|pad|><|pad|><|pad|><|pad|><|pad|><|pad|><|pad|><|pad|><|pad|><|pad|><|pad|><|pad|><|pad|><|pad|><|pad|><|pad|><|pad|><|pad|><|pad|><|pad|><|pad|><|pad|><|pad|><|pad|><|pad|><|pad|><|pad|><|pad|><|pad|><|pad|><|pad|><|pad|><|pad|><|pad|><|pad|><|pad|><|pad|><|pad|><|pad|><|pad|><|pad|><|pad|><|pad|><|pad|><|pad|><|pad|><|pad|><|pad|>'\n",
      "\n",
      "Predicted Token ID: 596 -> 's\n",
      "Ground Truth Token ID: 32 -> A\n",
      "Logit Difference: 9.324219\n",
      "Logits for predicted token: 14.6015625\n",
      "Logits for ground truth token: 5.27734375\n",
      "\n",
      "Prediction: 's, Ground Truth: A\n"
     ]
    }
   ],
   "source": [
    "# Ensure deterministic behavior\n",
    "import torch\n",
    "torch.manual_seed(42)\n",
    "max_length=256\n",
    "def create_tokenized_ds_for_finetune(example):\n",
    "    prompt_text = preprocess_qa(example)['text']\n",
    "\n",
    "    tokenized_prompt = tokenizer(prompt_text, truncation=True, padding=\"max_length\", return_tensors=\"pt\", max_length=max_length)\n",
    "\n",
    "    answer_token = tokenizer(example['answerKey'].strip(), return_tensors=\"pt\", add_special_tokens=False)\n",
    "\n",
    "    input_ids = tokenized_prompt[\"input_ids\"].squeeze(0)\n",
    "    attention_mask = tokenized_prompt[\"attention_mask\"].squeeze(0)\n",
    "    answer_input_ids = answer_token[\"input_ids\"].squeeze(0)\n",
    "\n",
    "    labels = torch.full_like(input_ids, -100)\n",
    "    if answer_input_ids.numel() == 1:\n",
    "        next_pos = input_ids.ne(tokenizer.pad_token_id).sum()\n",
    "        labels[next_pos] = answer_input_ids.item()\n",
    "    else:\n",
    "        start_pos = input_ids.ne(tokenizer.pad_token_id).sum()\n",
    "        labels[start_pos : start_pos + answer_input_ids.size(0)] = answer_input_ids\n",
    "\n",
    "    pad_length = max_length - input_ids.shape[0]\n",
    "    \n",
    "    if pad_length > 0:\n",
    "        input_ids = torch.cat([input_ids, torch.full((pad_length,), tokenizer.pad_token_id)])\n",
    "        attention_mask = torch.cat([attention_mask, torch.zeros(pad_length, dtype=torch.long)])\n",
    "        labels = torch.cat([labels, torch.full((pad_length,), -100)])\n",
    "    else:\n",
    "        input_ids = input_ids[:max_length]\n",
    "        attention_mask = attention_mask[:max_length]\n",
    "        labels = labels[:max_length]\n",
    "\n",
    "    return {\n",
    "        \"input_ids\": input_ids,\n",
    "        \"attention_mask\": attention_mask,\n",
    "        \"labels\": labels\n",
    "    }\n",
    "\n",
    "# Prepare a single test sample from your dataset\n",
    "sample = ds['train'][0]\n",
    "tokens_info = create_tokenized_ds_for_finetune(sample)\n",
    "inputs = {\n",
    "    \"input_ids\": tokens_info[\"input_ids\"].unsqueeze(0).to(model.device),\n",
    "    \"attention_mask\": tokens_info[\"attention_mask\"].unsqueeze(0).to(model.device),\n",
    "}\n",
    "\n",
    "ground_truth = sample['answerKey'].strip()\n",
    "ground_truth_token_id = tokenizer.convert_tokens_to_ids(ground_truth)\n",
    "\n",
    "# Perform inference and check logits difference\n",
    "with torch.no_grad():\n",
    "    outputs = model(**inputs)\n",
    "    logits = outputs.logits[:, -1, :]  # Logits for the last token\n",
    "    predicted_token_id = torch.argmax(logits, dim=-1).item()\n",
    "\n",
    "    # Logit comparison\n",
    "    logit_predicted = logits[0, predicted_token_id].item()\n",
    "    logit_ground_truth = logits[0, ground_truth_token_id].item()\n",
    "\n",
    "\n",
    "    print(\"Decoded input with special characters:\")\n",
    "    print(repr(tokenizer.decode(tokens_info[\"input_ids\"])))\n",
    "    print(f\"\\nPredicted Token ID: {predicted_token_id} -> {tokenizer.decode([predicted_token_id])}\")\n",
    "    print(f\"Ground Truth Token ID: {ground_truth_token_id} -> {tokenizer.decode([ground_truth_token_id])}\")\n",
    "    print(f\"Logit Difference: {logit_predicted - logit_ground_truth:.6f}\")\n",
    "    print(f\"Logits for predicted token: {logit_predicted}\")\n",
    "    print(f\"Logits for ground truth token: {logit_ground_truth}\")\n",
    "    print(f\"\\nPrediction: {tokenizer.decode([predicted_token_id])}, Ground Truth: {ground_truth}\")"
   ]
  },
  {
   "cell_type": "code",
   "execution_count": 6,
   "metadata": {},
   "outputs": [
    {
     "name": "stdout",
     "output_type": "stream",
     "text": [
      "\n",
      "Probabilities for A, B, C, D, E:\n",
      "Token: , (ID: 11) -> Probability: 0.002972\n",
      "Token: : (ID: 25) -> Probability: 0.054352\n",
      "Token: A (ID: 32) -> Probability: 0.000028\n",
      "Token: B (ID: 33) -> Probability: 0.000014\n",
      "Token: C (ID: 34) -> Probability: 0.000007\n",
      "Token: D (ID: 35) -> Probability: 0.000003\n",
      "Token: E (ID: 36) -> Probability: 0.000014\n",
      "\n",
      "Decoded input with special characters:\n",
      "'<|begin_of_text|>Question: The sanctions against the school were a punishing blow, and they seemed to what the efforts the school had made to change?. Options: A: ignore, B: enforce, C: authoritarian, D: yell at, E: avoid,. Return only the letter corresponding to the correct answer (A, B, C, D, or E). The answer is <|pad|><|pad|><|pad|><|pad|><|pad|><|pad|><|pad|><|pad|><|pad|><|pad|><|pad|><|pad|><|pad|><|pad|><|pad|><|pad|><|pad|><|pad|><|pad|><|pad|><|pad|><|pad|><|pad|><|pad|><|pad|><|pad|><|pad|><|pad|><|pad|><|pad|><|pad|><|pad|><|pad|><|pad|><|pad|><|pad|><|pad|><|pad|><|pad|><|pad|><|pad|><|pad|><|pad|><|pad|><|pad|><|pad|><|pad|><|pad|><|pad|><|pad|><|pad|><|pad|><|pad|><|pad|><|pad|><|pad|><|pad|><|pad|><|pad|><|pad|><|pad|><|pad|><|pad|><|pad|><|pad|><|pad|><|pad|><|pad|><|pad|><|pad|><|pad|><|pad|><|pad|><|pad|><|pad|><|pad|><|pad|><|pad|><|pad|><|pad|><|pad|><|pad|><|pad|><|pad|><|pad|><|pad|><|pad|><|pad|><|pad|><|pad|><|pad|><|pad|><|pad|><|pad|><|pad|><|pad|><|pad|><|pad|><|pad|><|pad|><|pad|><|pad|><|pad|><|pad|><|pad|><|pad|><|pad|><|pad|><|pad|><|pad|><|pad|><|pad|><|pad|><|pad|><|pad|><|pad|><|pad|><|pad|><|pad|><|pad|><|pad|><|pad|><|pad|><|pad|><|pad|><|pad|><|pad|><|pad|><|pad|><|pad|><|pad|><|pad|><|pad|><|pad|><|pad|><|pad|><|pad|><|pad|><|pad|><|pad|><|pad|><|pad|><|pad|><|pad|><|pad|><|pad|><|pad|><|pad|><|pad|><|pad|><|pad|><|pad|><|pad|><|pad|><|pad|><|pad|><|pad|><|pad|><|pad|><|pad|><|pad|><|pad|><|pad|><|pad|><|pad|><|pad|><|pad|><|pad|><|pad|><|pad|><|pad|><|pad|><|pad|><|pad|><|pad|><|pad|><|pad|><|pad|><|pad|><|pad|><|pad|>'\n",
      "\n",
      "Predicted Token ID: 596 -> 's\n",
      "Ground Truth Token ID: 32 -> A\n",
      "Logit Difference: 9.324219\n",
      "Logits for predicted token: 14.6015625\n",
      "Logits for ground truth token: 5.27734375\n",
      "\n",
      "Prediction: 's, Ground Truth: A\n"
     ]
    }
   ],
   "source": [
    "import torch\n",
    "import torch.nn.functional as F\n",
    "# Define the token IDs for A, B, C, D, E\n",
    "target_tokens = [',', ':', 'A', 'B', 'C', 'D', 'E']\n",
    "target_token_ids = [tokenizer.convert_tokens_to_ids(token) for token in target_tokens]\n",
    "\n",
    "with torch.no_grad():\n",
    "    outputs = model(**inputs)\n",
    "    logits = outputs.logits[:, -1, :]  # Logits for the last token (before softmax)\n",
    "    \n",
    "    # Apply softmax to convert logits to probabilities\n",
    "    probabilities = F.softmax(logits, dim=-1)[0]  # Apply softmax across the last dimension\n",
    "\n",
    "    # Get the predicted token and ground truth token\n",
    "    predicted_token_id = torch.argmax(logits, dim=-1).item()\n",
    "    logit_predicted = logits[0, predicted_token_id].item()\n",
    "    logit_ground_truth = logits[0, ground_truth_token_id].item()\n",
    "\n",
    "    # Print token probabilities for A, B, C, D, E\n",
    "    print(\"\\nProbabilities for A, B, C, D, E:\")\n",
    "    for token, token_id in zip(target_tokens, target_token_ids):\n",
    "        prob = probabilities[token_id].item()\n",
    "        print(f\"Token: {token} (ID: {token_id}) -> Probability: {prob:.6f}\")\n",
    "\n",
    "    # Print decoded results and probabilities for the predicted token\n",
    "    print(\"\\nDecoded input with special characters:\")\n",
    "    print(repr(tokenizer.decode(tokens_info[\"input_ids\"])))\n",
    "    print(f\"\\nPredicted Token ID: {predicted_token_id} -> {tokenizer.decode([predicted_token_id])}\")\n",
    "    print(f\"Ground Truth Token ID: {ground_truth_token_id} -> {tokenizer.decode([ground_truth_token_id])}\")\n",
    "    print(f\"Logit Difference: {logit_predicted - logit_ground_truth:.6f}\")\n",
    "    print(f\"Logits for predicted token: {logit_predicted}\")\n",
    "    print(f\"Logits for ground truth token: {logit_ground_truth}\")\n",
    "    print(f\"\\nPrediction: {tokenizer.decode([predicted_token_id])}, Ground Truth: {ground_truth}\")"
   ]
  },
  {
   "cell_type": "code",
   "execution_count": null,
   "metadata": {},
   "outputs": [],
   "source": []
  }
 ],
 "metadata": {
  "kernelspec": {
   "display_name": "llama_env",
   "language": "python",
   "name": "python3"
  },
  "language_info": {
   "codemirror_mode": {
    "name": "ipython",
    "version": 3
   },
   "file_extension": ".py",
   "mimetype": "text/x-python",
   "name": "python",
   "nbconvert_exporter": "python",
   "pygments_lexer": "ipython3",
   "version": "3.9.16"
  }
 },
 "nbformat": 4,
 "nbformat_minor": 2
}
