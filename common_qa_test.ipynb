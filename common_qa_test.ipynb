{
 "cells": [
  {
   "cell_type": "code",
   "execution_count": 1,
   "metadata": {},
   "outputs": [],
   "source": [
    "from datasets import load_dataset\n",
    "import torch\n",
    "import os\n",
    "import pandas as pd\n",
    "from utils import preprocess_qa, RestrictToValidTokens\n",
    "pd.options.display.max_colwidth = None\n",
    "hf_auth_token = os.getenv(\"HF_AUTH_TOKEN\")\n",
    "ds = load_dataset(\"tau/commonsense_qa\")"
   ]
  },
  {
   "cell_type": "code",
   "execution_count": 2,
   "metadata": {},
   "outputs": [],
   "source": [
    "trained_folder = \"./fine-tuned/llama-qa-lora_50\""
   ]
  },
  {
   "cell_type": "code",
   "execution_count": 3,
   "metadata": {},
   "outputs": [
    {
     "name": "stderr",
     "output_type": "stream",
     "text": [
      "`low_cpu_mem_usage` was None, now default to True since model is quantized.\n"
     ]
    },
    {
     "data": {
      "application/vnd.jupyter.widget-view+json": {
       "model_id": "aff03564146b4241af56f1113d2b37fd",
       "version_major": 2,
       "version_minor": 0
      },
      "text/plain": [
       "Loading checkpoint shards:   0%|          | 0/4 [00:00<?, ?it/s]"
      ]
     },
     "metadata": {},
     "output_type": "display_data"
    },
    {
     "name": "stderr",
     "output_type": "stream",
     "text": [
      "The new embeddings will be initialized from a multivariate normal distribution that has old embeddings' mean and covariance. As described in this article: https://nlp.stanford.edu/~johnhew/vocab-expansion.html. To disable this, use `mean_resizing=False`\n",
      "The new lm_head weights will be initialized from a multivariate normal distribution that has old embeddings' mean and covariance. As described in this article: https://nlp.stanford.edu/~johnhew/vocab-expansion.html. To disable this, use `mean_resizing=False`\n"
     ]
    },
    {
     "name": "stdout",
     "output_type": "stream",
     "text": [
      "trainable params: 3,407,872 || all params: 8,033,677,312 || trainable%: 0.0424\n"
     ]
    }
   ],
   "source": [
    "from transformers import AutoTokenizer, AutoModelForCausalLM, BitsAndBytesConfig\n",
    "from peft import PeftModel\n",
    "\n",
    "# Load the tokenizer\n",
    "tokenizer = AutoTokenizer.from_pretrained(trained_folder)\n",
    "\n",
    "# Ensure the pad token is consistent\n",
    "if tokenizer.pad_token_id is None:\n",
    "    tokenizer.add_special_tokens({\"pad_token\": \"<|pad|>\"})\n",
    "    tokenizer.pad_token_id = tokenizer.convert_tokens_to_ids(\"<|pad|>\")\n",
    "\n",
    "# Load the base model\n",
    "bnb_config = BitsAndBytesConfig(\n",
    "    load_in_8bit=True,  \n",
    "    llm_int8_threshold=6.0  \n",
    ")\n",
    "\n",
    "base_model = AutoModelForCausalLM.from_pretrained(\n",
    "    \"meta-llama/Meta-Llama-3-8B-Instruct\",\n",
    "    cache_dir=\"/fs03/yu60/kojitanaka/model_cache\",\n",
    "    quantization_config=bnb_config\n",
    ")\n",
    "\n",
    "base_model.resize_token_embeddings(len(tokenizer))\n",
    "\n",
    "# Load the LoRA adapter correctly\n",
    "model = PeftModel.from_pretrained(\n",
    "    base_model,\n",
    "    trained_folder,\n",
    "    is_trainable=True\n",
    ")\n",
    "\n",
    "model.print_trainable_parameters()"
   ]
  },
  {
   "cell_type": "code",
   "execution_count": 4,
   "metadata": {},
   "outputs": [
    {
     "name": "stderr",
     "output_type": "stream",
     "text": [
      "Setting `pad_token_id` to `eos_token_id`:128009 for open-end generation.\n",
      "Setting `pad_token_id` to `eos_token_id`:128009 for open-end generation.\n",
      "Setting `pad_token_id` to `eos_token_id`:128009 for open-end generation.\n"
     ]
    },
    {
     "name": "stdout",
     "output_type": "stream",
     "text": [
      "Prediction: B, Ground Truth: A\n",
      "Progress: 1/50\n",
      "Prediction: B, Ground Truth: B\n",
      "Progress: 2/50\n"
     ]
    },
    {
     "name": "stderr",
     "output_type": "stream",
     "text": [
      "Setting `pad_token_id` to `eos_token_id`:128009 for open-end generation.\n",
      "Setting `pad_token_id` to `eos_token_id`:128009 for open-end generation.\n"
     ]
    },
    {
     "name": "stdout",
     "output_type": "stream",
     "text": [
      "Prediction: A, Ground Truth: A\n",
      "Progress: 3/50\n",
      "Prediction: D, Ground Truth: D\n",
      "Progress: 4/50\n"
     ]
    },
    {
     "name": "stderr",
     "output_type": "stream",
     "text": [
      "Setting `pad_token_id` to `eos_token_id`:128009 for open-end generation.\n",
      "Setting `pad_token_id` to `eos_token_id`:128009 for open-end generation.\n"
     ]
    },
    {
     "name": "stdout",
     "output_type": "stream",
     "text": [
      "Prediction: C, Ground Truth: C\n",
      "Progress: 5/50\n",
      "Prediction: D, Ground Truth: D\n",
      "Progress: 6/50\n"
     ]
    },
    {
     "name": "stderr",
     "output_type": "stream",
     "text": [
      "Setting `pad_token_id` to `eos_token_id`:128009 for open-end generation.\n",
      "Setting `pad_token_id` to `eos_token_id`:128009 for open-end generation.\n"
     ]
    },
    {
     "name": "stdout",
     "output_type": "stream",
     "text": [
      "Prediction: E, Ground Truth: E\n",
      "Progress: 7/50\n",
      "Prediction: D, Ground Truth: B\n",
      "Progress: 8/50\n"
     ]
    },
    {
     "name": "stderr",
     "output_type": "stream",
     "text": [
      "Setting `pad_token_id` to `eos_token_id`:128009 for open-end generation.\n",
      "Setting `pad_token_id` to `eos_token_id`:128009 for open-end generation.\n"
     ]
    },
    {
     "name": "stdout",
     "output_type": "stream",
     "text": [
      "Prediction: E, Ground Truth: E\n",
      "Progress: 9/50\n",
      "Prediction: D, Ground Truth: D\n",
      "Progress: 10/50\n"
     ]
    },
    {
     "name": "stderr",
     "output_type": "stream",
     "text": [
      "Setting `pad_token_id` to `eos_token_id`:128009 for open-end generation.\n",
      "Setting `pad_token_id` to `eos_token_id`:128009 for open-end generation.\n"
     ]
    },
    {
     "name": "stdout",
     "output_type": "stream",
     "text": [
      "Prediction: B, Ground Truth: B\n",
      "Progress: 11/50\n",
      "Prediction: C, Ground Truth: C\n",
      "Progress: 12/50\n"
     ]
    },
    {
     "name": "stderr",
     "output_type": "stream",
     "text": [
      "Setting `pad_token_id` to `eos_token_id`:128009 for open-end generation.\n",
      "Setting `pad_token_id` to `eos_token_id`:128009 for open-end generation.\n"
     ]
    },
    {
     "name": "stdout",
     "output_type": "stream",
     "text": [
      "Prediction: C, Ground Truth: C\n",
      "Progress: 13/50\n",
      "Prediction: A, Ground Truth: A\n",
      "Progress: 14/50\n"
     ]
    },
    {
     "name": "stderr",
     "output_type": "stream",
     "text": [
      "Setting `pad_token_id` to `eos_token_id`:128009 for open-end generation.\n",
      "Setting `pad_token_id` to `eos_token_id`:128009 for open-end generation.\n"
     ]
    },
    {
     "name": "stdout",
     "output_type": "stream",
     "text": [
      "Prediction: C, Ground Truth: C\n",
      "Progress: 15/50\n",
      "Prediction: D, Ground Truth: D\n",
      "Progress: 16/50\n"
     ]
    },
    {
     "name": "stderr",
     "output_type": "stream",
     "text": [
      "Setting `pad_token_id` to `eos_token_id`:128009 for open-end generation.\n",
      "Setting `pad_token_id` to `eos_token_id`:128009 for open-end generation.\n"
     ]
    },
    {
     "name": "stdout",
     "output_type": "stream",
     "text": [
      "Prediction: E, Ground Truth: E\n",
      "Progress: 17/50\n",
      "Prediction: C, Ground Truth: D\n",
      "Progress: 18/50\n"
     ]
    },
    {
     "name": "stderr",
     "output_type": "stream",
     "text": [
      "Setting `pad_token_id` to `eos_token_id`:128009 for open-end generation.\n",
      "Setting `pad_token_id` to `eos_token_id`:128009 for open-end generation.\n"
     ]
    },
    {
     "name": "stdout",
     "output_type": "stream",
     "text": [
      "Prediction: C, Ground Truth: D\n",
      "Progress: 19/50\n",
      "Prediction: B, Ground Truth: B\n",
      "Progress: 20/50\n"
     ]
    },
    {
     "name": "stderr",
     "output_type": "stream",
     "text": [
      "Setting `pad_token_id` to `eos_token_id`:128009 for open-end generation.\n",
      "Setting `pad_token_id` to `eos_token_id`:128009 for open-end generation.\n"
     ]
    },
    {
     "name": "stdout",
     "output_type": "stream",
     "text": [
      "Prediction: B, Ground Truth: E\n",
      "Progress: 21/50\n",
      "Prediction: E, Ground Truth: B\n",
      "Progress: 22/50\n"
     ]
    },
    {
     "name": "stderr",
     "output_type": "stream",
     "text": [
      "Setting `pad_token_id` to `eos_token_id`:128009 for open-end generation.\n",
      "Setting `pad_token_id` to `eos_token_id`:128009 for open-end generation.\n"
     ]
    },
    {
     "name": "stdout",
     "output_type": "stream",
     "text": [
      "Prediction: D, Ground Truth: D\n",
      "Progress: 23/50\n",
      "Prediction: E, Ground Truth: E\n",
      "Progress: 24/50\n"
     ]
    },
    {
     "name": "stderr",
     "output_type": "stream",
     "text": [
      "Setting `pad_token_id` to `eos_token_id`:128009 for open-end generation.\n",
      "Setting `pad_token_id` to `eos_token_id`:128009 for open-end generation.\n"
     ]
    },
    {
     "name": "stdout",
     "output_type": "stream",
     "text": [
      "Prediction: C, Ground Truth: C\n",
      "Progress: 25/50\n",
      "Prediction: C, Ground Truth: D\n",
      "Progress: 26/50\n"
     ]
    },
    {
     "name": "stderr",
     "output_type": "stream",
     "text": [
      "Setting `pad_token_id` to `eos_token_id`:128009 for open-end generation.\n",
      "Setting `pad_token_id` to `eos_token_id`:128009 for open-end generation.\n"
     ]
    },
    {
     "name": "stdout",
     "output_type": "stream",
     "text": [
      "Prediction: B, Ground Truth: D\n",
      "Progress: 27/50\n",
      "Prediction: D, Ground Truth: D\n",
      "Progress: 28/50\n"
     ]
    },
    {
     "name": "stderr",
     "output_type": "stream",
     "text": [
      "Setting `pad_token_id` to `eos_token_id`:128009 for open-end generation.\n",
      "Setting `pad_token_id` to `eos_token_id`:128009 for open-end generation.\n"
     ]
    },
    {
     "name": "stdout",
     "output_type": "stream",
     "text": [
      "Prediction: E, Ground Truth: E\n",
      "Progress: 29/50\n",
      "Prediction: A, Ground Truth: A\n",
      "Progress: 30/50\n"
     ]
    },
    {
     "name": "stderr",
     "output_type": "stream",
     "text": [
      "Setting `pad_token_id` to `eos_token_id`:128009 for open-end generation.\n",
      "Setting `pad_token_id` to `eos_token_id`:128009 for open-end generation.\n"
     ]
    },
    {
     "name": "stdout",
     "output_type": "stream",
     "text": [
      "Prediction: B, Ground Truth: C\n",
      "Progress: 31/50\n",
      "Prediction: B, Ground Truth: B\n",
      "Progress: 32/50\n"
     ]
    },
    {
     "name": "stderr",
     "output_type": "stream",
     "text": [
      "Setting `pad_token_id` to `eos_token_id`:128009 for open-end generation.\n",
      "Setting `pad_token_id` to `eos_token_id`:128009 for open-end generation.\n"
     ]
    },
    {
     "name": "stdout",
     "output_type": "stream",
     "text": [
      "Prediction: D, Ground Truth: D\n",
      "Progress: 33/50\n",
      "Prediction: D, Ground Truth: D\n",
      "Progress: 34/50\n"
     ]
    },
    {
     "name": "stderr",
     "output_type": "stream",
     "text": [
      "Setting `pad_token_id` to `eos_token_id`:128009 for open-end generation.\n",
      "Setting `pad_token_id` to `eos_token_id`:128009 for open-end generation.\n"
     ]
    },
    {
     "name": "stdout",
     "output_type": "stream",
     "text": [
      "Prediction: C, Ground Truth: C\n",
      "Progress: 35/50\n",
      "Prediction: C, Ground Truth: D\n",
      "Progress: 36/50\n"
     ]
    },
    {
     "name": "stderr",
     "output_type": "stream",
     "text": [
      "Setting `pad_token_id` to `eos_token_id`:128009 for open-end generation.\n",
      "Setting `pad_token_id` to `eos_token_id`:128009 for open-end generation.\n"
     ]
    },
    {
     "name": "stdout",
     "output_type": "stream",
     "text": [
      "Prediction: D, Ground Truth: D\n",
      "Progress: 37/50\n",
      "Prediction: D, Ground Truth: A\n",
      "Progress: 38/50\n"
     ]
    },
    {
     "name": "stderr",
     "output_type": "stream",
     "text": [
      "Setting `pad_token_id` to `eos_token_id`:128009 for open-end generation.\n",
      "Setting `pad_token_id` to `eos_token_id`:128009 for open-end generation.\n"
     ]
    },
    {
     "name": "stdout",
     "output_type": "stream",
     "text": [
      "Prediction: E, Ground Truth: E\n",
      "Progress: 39/50\n",
      "Prediction: D, Ground Truth: D\n",
      "Progress: 40/50\n"
     ]
    },
    {
     "name": "stderr",
     "output_type": "stream",
     "text": [
      "Setting `pad_token_id` to `eos_token_id`:128009 for open-end generation.\n",
      "Setting `pad_token_id` to `eos_token_id`:128009 for open-end generation.\n"
     ]
    },
    {
     "name": "stdout",
     "output_type": "stream",
     "text": [
      "Prediction: D, Ground Truth: D\n",
      "Progress: 41/50\n",
      "Prediction: D, Ground Truth: D\n",
      "Progress: 42/50\n"
     ]
    },
    {
     "name": "stderr",
     "output_type": "stream",
     "text": [
      "Setting `pad_token_id` to `eos_token_id`:128009 for open-end generation.\n",
      "Setting `pad_token_id` to `eos_token_id`:128009 for open-end generation.\n"
     ]
    },
    {
     "name": "stdout",
     "output_type": "stream",
     "text": [
      "Prediction: B, Ground Truth: B\n",
      "Progress: 43/50\n",
      "Prediction: E, Ground Truth: C\n",
      "Progress: 44/50\n"
     ]
    },
    {
     "name": "stderr",
     "output_type": "stream",
     "text": [
      "Setting `pad_token_id` to `eos_token_id`:128009 for open-end generation.\n",
      "Setting `pad_token_id` to `eos_token_id`:128009 for open-end generation.\n"
     ]
    },
    {
     "name": "stdout",
     "output_type": "stream",
     "text": [
      "Prediction: E, Ground Truth: E\n",
      "Progress: 45/50\n",
      "Prediction: D, Ground Truth: D\n",
      "Progress: 46/50\n"
     ]
    },
    {
     "name": "stderr",
     "output_type": "stream",
     "text": [
      "Setting `pad_token_id` to `eos_token_id`:128009 for open-end generation.\n",
      "Setting `pad_token_id` to `eos_token_id`:128009 for open-end generation.\n"
     ]
    },
    {
     "name": "stdout",
     "output_type": "stream",
     "text": [
      "Prediction: C, Ground Truth: C\n",
      "Progress: 47/50\n",
      "Prediction: E, Ground Truth: E\n",
      "Progress: 48/50\n"
     ]
    },
    {
     "name": "stderr",
     "output_type": "stream",
     "text": [
      "Setting `pad_token_id` to `eos_token_id`:128009 for open-end generation.\n"
     ]
    },
    {
     "name": "stdout",
     "output_type": "stream",
     "text": [
      "Prediction: D, Ground Truth: D\n",
      "Progress: 49/50\n",
      "Prediction: B, Ground Truth: B\n",
      "Progress: 50/50\n",
      "\n",
      "Accuracy: 76.00%\n"
     ]
    }
   ],
   "source": [
    "from transformers import LogitsProcessorList, LogitsProcessor\n",
    "\n",
    "tokenized_ds = ds.map(preprocess_qa)\n",
    "# Convert valid tokens to token IDs\n",
    "valid_tokens = [tokenizer.convert_tokens_to_ids(token) for token in ['A', 'B', 'C', 'D', 'E']]\n",
    "\n",
    "# Instantiate the logits processor with valid tokens\n",
    "logits_processor = LogitsProcessorList([RestrictToValidTokens(valid_tokens)])\n",
    "\n",
    "correct_predictions = 0\n",
    "sample_texts = tokenized_ds['train']['text']\n",
    "ground_truths = tokenized_ds['train']['target_text']\n",
    "\n",
    "size = 50\n",
    "for i in range(0, size):\n",
    "    sample_text = sample_texts[i]\n",
    "    ground_truth = ground_truths[i].strip()\n",
    "\n",
    "    inputs = tokenizer(sample_text, return_tensors=\"pt\").to(model.device)\n",
    "    with torch.no_grad():\n",
    "        outputs = model.generate(**inputs, \n",
    "                                 max_new_tokens=1, \n",
    "                                 eos_token_id=tokenizer.eos_token_id, \n",
    "                                 top_k=1,\n",
    "                                 logits_processor=logits_processor\n",
    "                                 )\n",
    "        \n",
    "        # outputs = model.generate(\n",
    "        #                             **inputs,\n",
    "        #                             max_new_tokens=1,\n",
    "        #                             eos_token_id=tokenizer.eos_token_id,\n",
    "        #                             do_sample=False,      # disables sampling\n",
    "        #                             temperature=0.0,      # forces deterministic greedy decode\n",
    "        #                             logits_processor=logits_processor\n",
    "        #                         )\n",
    "        generated_tokens = outputs[0][inputs['input_ids'].shape[1]:]\n",
    "        prediction_text = tokenizer.decode(generated_tokens, skip_special_tokens=True)\n",
    "        if prediction_text == ground_truth:\n",
    "            correct_predictions += 1\n",
    "        \n",
    "        print(f\"Prediction: {prediction_text}, Ground Truth: {ground_truth}\")\n",
    "        print(f\"Progress: {i + 1}/{size}\")\n",
    "\n",
    "accuracy = correct_predictions / size * 100\n",
    "print(f\"\\nAccuracy: {accuracy:.2f}%\")"
   ]
  },
  {
   "cell_type": "code",
   "execution_count": null,
   "metadata": {},
   "outputs": [],
   "source": []
  },
  {
   "cell_type": "code",
   "execution_count": null,
   "metadata": {},
   "outputs": [
    {
     "name": "stderr",
     "output_type": "stream",
     "text": [
      "Setting `pad_token_id` to `eos_token_id`:128009 for open-end generation.\n",
      "Setting `pad_token_id` to `eos_token_id`:128009 for open-end generation.\n",
      "Setting `pad_token_id` to `eos_token_id`:128009 for open-end generation.\n"
     ]
    },
    {
     "name": "stdout",
     "output_type": "stream",
     "text": [
      "prediction_text repr: 'B'\n",
      "ground_truth repr:   'A'\n",
      "Progress: 1/100\n",
      "\n",
      "prediction_text repr: 'B'\n",
      "ground_truth repr:   'B'\n",
      "Progress: 2/100\n",
      "\n"
     ]
    },
    {
     "name": "stderr",
     "output_type": "stream",
     "text": [
      "Setting `pad_token_id` to `eos_token_id`:128009 for open-end generation.\n",
      "Setting `pad_token_id` to `eos_token_id`:128009 for open-end generation.\n"
     ]
    },
    {
     "name": "stdout",
     "output_type": "stream",
     "text": [
      "prediction_text repr: 'A'\n",
      "ground_truth repr:   'A'\n",
      "Progress: 3/100\n",
      "\n",
      "prediction_text repr: 'D'\n",
      "ground_truth repr:   'D'\n",
      "Progress: 4/100\n",
      "\n"
     ]
    },
    {
     "name": "stderr",
     "output_type": "stream",
     "text": [
      "Setting `pad_token_id` to `eos_token_id`:128009 for open-end generation.\n",
      "Setting `pad_token_id` to `eos_token_id`:128009 for open-end generation.\n"
     ]
    },
    {
     "name": "stdout",
     "output_type": "stream",
     "text": [
      "prediction_text repr: 'C'\n",
      "ground_truth repr:   'C'\n",
      "Progress: 5/100\n",
      "\n",
      "prediction_text repr: 'D'\n",
      "ground_truth repr:   'D'\n",
      "Progress: 6/100\n",
      "\n"
     ]
    },
    {
     "name": "stderr",
     "output_type": "stream",
     "text": [
      "Setting `pad_token_id` to `eos_token_id`:128009 for open-end generation.\n",
      "Setting `pad_token_id` to `eos_token_id`:128009 for open-end generation.\n"
     ]
    },
    {
     "name": "stdout",
     "output_type": "stream",
     "text": [
      "prediction_text repr: 'E'\n",
      "ground_truth repr:   'E'\n",
      "Progress: 7/100\n",
      "\n",
      "prediction_text repr: 'D'\n",
      "ground_truth repr:   'B'\n",
      "Progress: 8/100\n",
      "\n"
     ]
    },
    {
     "name": "stderr",
     "output_type": "stream",
     "text": [
      "Setting `pad_token_id` to `eos_token_id`:128009 for open-end generation.\n",
      "Setting `pad_token_id` to `eos_token_id`:128009 for open-end generation.\n"
     ]
    },
    {
     "name": "stdout",
     "output_type": "stream",
     "text": [
      "prediction_text repr: 'E'\n",
      "ground_truth repr:   'E'\n",
      "Progress: 9/100\n",
      "\n",
      "prediction_text repr: 'D'\n",
      "ground_truth repr:   'D'\n",
      "Progress: 10/100\n",
      "\n"
     ]
    },
    {
     "name": "stderr",
     "output_type": "stream",
     "text": [
      "Setting `pad_token_id` to `eos_token_id`:128009 for open-end generation.\n",
      "Setting `pad_token_id` to `eos_token_id`:128009 for open-end generation.\n"
     ]
    },
    {
     "name": "stdout",
     "output_type": "stream",
     "text": [
      "prediction_text repr: 'B'\n",
      "ground_truth repr:   'B'\n",
      "Progress: 11/100\n",
      "\n",
      "prediction_text repr: 'C'\n",
      "ground_truth repr:   'C'\n",
      "Progress: 12/100\n",
      "\n"
     ]
    },
    {
     "name": "stderr",
     "output_type": "stream",
     "text": [
      "Setting `pad_token_id` to `eos_token_id`:128009 for open-end generation.\n",
      "Setting `pad_token_id` to `eos_token_id`:128009 for open-end generation.\n"
     ]
    },
    {
     "name": "stdout",
     "output_type": "stream",
     "text": [
      "prediction_text repr: 'C'\n",
      "ground_truth repr:   'C'\n",
      "Progress: 13/100\n",
      "\n",
      "prediction_text repr: 'A'\n",
      "ground_truth repr:   'A'\n",
      "Progress: 14/100\n",
      "\n"
     ]
    },
    {
     "name": "stderr",
     "output_type": "stream",
     "text": [
      "Setting `pad_token_id` to `eos_token_id`:128009 for open-end generation.\n",
      "Setting `pad_token_id` to `eos_token_id`:128009 for open-end generation.\n"
     ]
    },
    {
     "name": "stdout",
     "output_type": "stream",
     "text": [
      "prediction_text repr: 'C'\n",
      "ground_truth repr:   'C'\n",
      "Progress: 15/100\n",
      "\n",
      "prediction_text repr: 'D'\n",
      "ground_truth repr:   'D'\n",
      "Progress: 16/100\n",
      "\n"
     ]
    },
    {
     "name": "stderr",
     "output_type": "stream",
     "text": [
      "Setting `pad_token_id` to `eos_token_id`:128009 for open-end generation.\n",
      "Setting `pad_token_id` to `eos_token_id`:128009 for open-end generation.\n"
     ]
    },
    {
     "name": "stdout",
     "output_type": "stream",
     "text": [
      "prediction_text repr: 'E'\n",
      "ground_truth repr:   'E'\n",
      "Progress: 17/100\n",
      "\n",
      "prediction_text repr: 'C'\n",
      "ground_truth repr:   'D'\n",
      "Progress: 18/100\n",
      "\n"
     ]
    },
    {
     "name": "stderr",
     "output_type": "stream",
     "text": [
      "Setting `pad_token_id` to `eos_token_id`:128009 for open-end generation.\n",
      "Setting `pad_token_id` to `eos_token_id`:128009 for open-end generation.\n"
     ]
    },
    {
     "name": "stdout",
     "output_type": "stream",
     "text": [
      "prediction_text repr: 'C'\n",
      "ground_truth repr:   'D'\n",
      "Progress: 19/100\n",
      "\n",
      "prediction_text repr: 'B'\n",
      "ground_truth repr:   'B'\n",
      "Progress: 20/100\n",
      "\n"
     ]
    },
    {
     "name": "stderr",
     "output_type": "stream",
     "text": [
      "Setting `pad_token_id` to `eos_token_id`:128009 for open-end generation.\n",
      "Setting `pad_token_id` to `eos_token_id`:128009 for open-end generation.\n"
     ]
    },
    {
     "name": "stdout",
     "output_type": "stream",
     "text": [
      "prediction_text repr: 'B'\n",
      "ground_truth repr:   'E'\n",
      "Progress: 21/100\n",
      "\n",
      "prediction_text repr: 'E'\n",
      "ground_truth repr:   'B'\n",
      "Progress: 22/100\n",
      "\n"
     ]
    },
    {
     "name": "stderr",
     "output_type": "stream",
     "text": [
      "Setting `pad_token_id` to `eos_token_id`:128009 for open-end generation.\n",
      "Setting `pad_token_id` to `eos_token_id`:128009 for open-end generation.\n"
     ]
    },
    {
     "name": "stdout",
     "output_type": "stream",
     "text": [
      "prediction_text repr: 'D'\n",
      "ground_truth repr:   'D'\n",
      "Progress: 23/100\n",
      "\n",
      "prediction_text repr: 'E'\n",
      "ground_truth repr:   'E'\n",
      "Progress: 24/100\n",
      "\n"
     ]
    },
    {
     "name": "stderr",
     "output_type": "stream",
     "text": [
      "Setting `pad_token_id` to `eos_token_id`:128009 for open-end generation.\n",
      "Setting `pad_token_id` to `eos_token_id`:128009 for open-end generation.\n"
     ]
    },
    {
     "name": "stdout",
     "output_type": "stream",
     "text": [
      "prediction_text repr: 'C'\n",
      "ground_truth repr:   'C'\n",
      "Progress: 25/100\n",
      "\n",
      "prediction_text repr: 'C'\n",
      "ground_truth repr:   'D'\n",
      "Progress: 26/100\n",
      "\n"
     ]
    },
    {
     "name": "stderr",
     "output_type": "stream",
     "text": [
      "Setting `pad_token_id` to `eos_token_id`:128009 for open-end generation.\n",
      "Setting `pad_token_id` to `eos_token_id`:128009 for open-end generation.\n"
     ]
    },
    {
     "name": "stdout",
     "output_type": "stream",
     "text": [
      "prediction_text repr: 'B'\n",
      "ground_truth repr:   'D'\n",
      "Progress: 27/100\n",
      "\n",
      "prediction_text repr: 'D'\n",
      "ground_truth repr:   'D'\n",
      "Progress: 28/100\n",
      "\n"
     ]
    },
    {
     "name": "stderr",
     "output_type": "stream",
     "text": [
      "Setting `pad_token_id` to `eos_token_id`:128009 for open-end generation.\n",
      "Setting `pad_token_id` to `eos_token_id`:128009 for open-end generation.\n"
     ]
    },
    {
     "name": "stdout",
     "output_type": "stream",
     "text": [
      "prediction_text repr: 'E'\n",
      "ground_truth repr:   'E'\n",
      "Progress: 29/100\n",
      "\n",
      "prediction_text repr: 'A'\n",
      "ground_truth repr:   'A'\n",
      "Progress: 30/100\n",
      "\n"
     ]
    },
    {
     "name": "stderr",
     "output_type": "stream",
     "text": [
      "Setting `pad_token_id` to `eos_token_id`:128009 for open-end generation.\n",
      "Setting `pad_token_id` to `eos_token_id`:128009 for open-end generation.\n"
     ]
    },
    {
     "name": "stdout",
     "output_type": "stream",
     "text": [
      "prediction_text repr: 'B'\n",
      "ground_truth repr:   'C'\n",
      "Progress: 31/100\n",
      "\n",
      "prediction_text repr: 'B'\n",
      "ground_truth repr:   'B'\n",
      "Progress: 32/100\n",
      "\n"
     ]
    },
    {
     "name": "stderr",
     "output_type": "stream",
     "text": [
      "Setting `pad_token_id` to `eos_token_id`:128009 for open-end generation.\n",
      "Setting `pad_token_id` to `eos_token_id`:128009 for open-end generation.\n"
     ]
    },
    {
     "name": "stdout",
     "output_type": "stream",
     "text": [
      "prediction_text repr: 'D'\n",
      "ground_truth repr:   'D'\n",
      "Progress: 33/100\n",
      "\n",
      "prediction_text repr: 'D'\n",
      "ground_truth repr:   'D'\n",
      "Progress: 34/100\n",
      "\n"
     ]
    },
    {
     "name": "stderr",
     "output_type": "stream",
     "text": [
      "Setting `pad_token_id` to `eos_token_id`:128009 for open-end generation.\n",
      "Setting `pad_token_id` to `eos_token_id`:128009 for open-end generation.\n"
     ]
    },
    {
     "name": "stdout",
     "output_type": "stream",
     "text": [
      "prediction_text repr: 'C'\n",
      "ground_truth repr:   'C'\n",
      "Progress: 35/100\n",
      "\n",
      "prediction_text repr: 'C'\n",
      "ground_truth repr:   'D'\n",
      "Progress: 36/100\n",
      "\n"
     ]
    },
    {
     "name": "stderr",
     "output_type": "stream",
     "text": [
      "Setting `pad_token_id` to `eos_token_id`:128009 for open-end generation.\n",
      "Setting `pad_token_id` to `eos_token_id`:128009 for open-end generation.\n"
     ]
    },
    {
     "name": "stdout",
     "output_type": "stream",
     "text": [
      "prediction_text repr: 'D'\n",
      "ground_truth repr:   'D'\n",
      "Progress: 37/100\n",
      "\n",
      "prediction_text repr: 'D'\n",
      "ground_truth repr:   'A'\n",
      "Progress: 38/100\n",
      "\n"
     ]
    },
    {
     "name": "stderr",
     "output_type": "stream",
     "text": [
      "Setting `pad_token_id` to `eos_token_id`:128009 for open-end generation.\n",
      "Setting `pad_token_id` to `eos_token_id`:128009 for open-end generation.\n"
     ]
    },
    {
     "name": "stdout",
     "output_type": "stream",
     "text": [
      "prediction_text repr: 'E'\n",
      "ground_truth repr:   'E'\n",
      "Progress: 39/100\n",
      "\n",
      "prediction_text repr: 'D'\n",
      "ground_truth repr:   'D'\n",
      "Progress: 40/100\n",
      "\n"
     ]
    },
    {
     "name": "stderr",
     "output_type": "stream",
     "text": [
      "Setting `pad_token_id` to `eos_token_id`:128009 for open-end generation.\n",
      "Setting `pad_token_id` to `eos_token_id`:128009 for open-end generation.\n"
     ]
    },
    {
     "name": "stdout",
     "output_type": "stream",
     "text": [
      "prediction_text repr: 'D'\n",
      "ground_truth repr:   'D'\n",
      "Progress: 41/100\n",
      "\n",
      "prediction_text repr: 'D'\n",
      "ground_truth repr:   'D'\n",
      "Progress: 42/100\n",
      "\n"
     ]
    },
    {
     "name": "stderr",
     "output_type": "stream",
     "text": [
      "Setting `pad_token_id` to `eos_token_id`:128009 for open-end generation.\n",
      "Setting `pad_token_id` to `eos_token_id`:128009 for open-end generation.\n"
     ]
    },
    {
     "name": "stdout",
     "output_type": "stream",
     "text": [
      "prediction_text repr: 'B'\n",
      "ground_truth repr:   'B'\n",
      "Progress: 43/100\n",
      "\n",
      "prediction_text repr: 'E'\n",
      "ground_truth repr:   'C'\n",
      "Progress: 44/100\n",
      "\n"
     ]
    },
    {
     "name": "stderr",
     "output_type": "stream",
     "text": [
      "Setting `pad_token_id` to `eos_token_id`:128009 for open-end generation.\n",
      "Setting `pad_token_id` to `eos_token_id`:128009 for open-end generation.\n"
     ]
    },
    {
     "name": "stdout",
     "output_type": "stream",
     "text": [
      "prediction_text repr: 'E'\n",
      "ground_truth repr:   'E'\n",
      "Progress: 45/100\n",
      "\n",
      "prediction_text repr: 'D'\n",
      "ground_truth repr:   'D'\n",
      "Progress: 46/100\n",
      "\n"
     ]
    },
    {
     "name": "stderr",
     "output_type": "stream",
     "text": [
      "Setting `pad_token_id` to `eos_token_id`:128009 for open-end generation.\n",
      "Setting `pad_token_id` to `eos_token_id`:128009 for open-end generation.\n"
     ]
    },
    {
     "name": "stdout",
     "output_type": "stream",
     "text": [
      "prediction_text repr: 'C'\n",
      "ground_truth repr:   'C'\n",
      "Progress: 47/100\n",
      "\n",
      "prediction_text repr: 'E'\n",
      "ground_truth repr:   'E'\n",
      "Progress: 48/100\n",
      "\n"
     ]
    },
    {
     "name": "stderr",
     "output_type": "stream",
     "text": [
      "Setting `pad_token_id` to `eos_token_id`:128009 for open-end generation.\n",
      "Setting `pad_token_id` to `eos_token_id`:128009 for open-end generation.\n"
     ]
    },
    {
     "name": "stdout",
     "output_type": "stream",
     "text": [
      "prediction_text repr: 'D'\n",
      "ground_truth repr:   'D'\n",
      "Progress: 49/100\n",
      "\n",
      "prediction_text repr: 'B'\n",
      "ground_truth repr:   'B'\n",
      "Progress: 50/100\n",
      "\n"
     ]
    },
    {
     "name": "stderr",
     "output_type": "stream",
     "text": [
      "Setting `pad_token_id` to `eos_token_id`:128009 for open-end generation.\n",
      "Setting `pad_token_id` to `eos_token_id`:128009 for open-end generation.\n"
     ]
    },
    {
     "name": "stdout",
     "output_type": "stream",
     "text": [
      "prediction_text repr: 'B'\n",
      "ground_truth repr:   'A'\n",
      "Progress: 51/100\n",
      "\n",
      "prediction_text repr: 'A'\n",
      "ground_truth repr:   'A'\n",
      "Progress: 52/100\n",
      "\n"
     ]
    },
    {
     "name": "stderr",
     "output_type": "stream",
     "text": [
      "Setting `pad_token_id` to `eos_token_id`:128009 for open-end generation.\n",
      "Setting `pad_token_id` to `eos_token_id`:128009 for open-end generation.\n"
     ]
    },
    {
     "name": "stdout",
     "output_type": "stream",
     "text": [
      "prediction_text repr: 'D'\n",
      "ground_truth repr:   'A'\n",
      "Progress: 53/100\n",
      "\n",
      "prediction_text repr: 'C'\n",
      "ground_truth repr:   'C'\n",
      "Progress: 54/100\n",
      "\n"
     ]
    },
    {
     "name": "stderr",
     "output_type": "stream",
     "text": [
      "Setting `pad_token_id` to `eos_token_id`:128009 for open-end generation.\n",
      "Setting `pad_token_id` to `eos_token_id`:128009 for open-end generation.\n"
     ]
    },
    {
     "name": "stdout",
     "output_type": "stream",
     "text": [
      "prediction_text repr: 'C'\n",
      "ground_truth repr:   'C'\n",
      "Progress: 55/100\n",
      "\n",
      "prediction_text repr: 'B'\n",
      "ground_truth repr:   'D'\n",
      "Progress: 56/100\n",
      "\n"
     ]
    },
    {
     "name": "stderr",
     "output_type": "stream",
     "text": [
      "Setting `pad_token_id` to `eos_token_id`:128009 for open-end generation.\n",
      "Setting `pad_token_id` to `eos_token_id`:128009 for open-end generation.\n"
     ]
    },
    {
     "name": "stdout",
     "output_type": "stream",
     "text": [
      "prediction_text repr: 'B'\n",
      "ground_truth repr:   'C'\n",
      "Progress: 57/100\n",
      "\n",
      "prediction_text repr: 'B'\n",
      "ground_truth repr:   'B'\n",
      "Progress: 58/100\n",
      "\n"
     ]
    },
    {
     "name": "stderr",
     "output_type": "stream",
     "text": [
      "Setting `pad_token_id` to `eos_token_id`:128009 for open-end generation.\n",
      "Setting `pad_token_id` to `eos_token_id`:128009 for open-end generation.\n"
     ]
    },
    {
     "name": "stdout",
     "output_type": "stream",
     "text": [
      "prediction_text repr: 'A'\n",
      "ground_truth repr:   'A'\n",
      "Progress: 59/100\n",
      "\n",
      "prediction_text repr: 'A'\n",
      "ground_truth repr:   'A'\n",
      "Progress: 60/100\n",
      "\n"
     ]
    },
    {
     "name": "stderr",
     "output_type": "stream",
     "text": [
      "Setting `pad_token_id` to `eos_token_id`:128009 for open-end generation.\n",
      "Setting `pad_token_id` to `eos_token_id`:128009 for open-end generation.\n"
     ]
    },
    {
     "name": "stdout",
     "output_type": "stream",
     "text": [
      "prediction_text repr: 'B'\n",
      "ground_truth repr:   'E'\n",
      "Progress: 61/100\n",
      "\n",
      "prediction_text repr: 'C'\n",
      "ground_truth repr:   'C'\n",
      "Progress: 62/100\n",
      "\n"
     ]
    },
    {
     "name": "stderr",
     "output_type": "stream",
     "text": [
      "Setting `pad_token_id` to `eos_token_id`:128009 for open-end generation.\n",
      "Setting `pad_token_id` to `eos_token_id`:128009 for open-end generation.\n"
     ]
    },
    {
     "name": "stdout",
     "output_type": "stream",
     "text": [
      "prediction_text repr: 'A'\n",
      "ground_truth repr:   'A'\n",
      "Progress: 63/100\n",
      "\n",
      "prediction_text repr: 'A'\n",
      "ground_truth repr:   'A'\n",
      "Progress: 64/100\n",
      "\n"
     ]
    },
    {
     "name": "stderr",
     "output_type": "stream",
     "text": [
      "Setting `pad_token_id` to `eos_token_id`:128009 for open-end generation.\n",
      "Setting `pad_token_id` to `eos_token_id`:128009 for open-end generation.\n"
     ]
    },
    {
     "name": "stdout",
     "output_type": "stream",
     "text": [
      "prediction_text repr: 'A'\n",
      "ground_truth repr:   'A'\n",
      "Progress: 65/100\n",
      "\n",
      "prediction_text repr: 'B'\n",
      "ground_truth repr:   'B'\n",
      "Progress: 66/100\n",
      "\n"
     ]
    },
    {
     "name": "stderr",
     "output_type": "stream",
     "text": [
      "Setting `pad_token_id` to `eos_token_id`:128009 for open-end generation.\n",
      "Setting `pad_token_id` to `eos_token_id`:128009 for open-end generation.\n"
     ]
    },
    {
     "name": "stdout",
     "output_type": "stream",
     "text": [
      "prediction_text repr: 'D'\n",
      "ground_truth repr:   'D'\n",
      "Progress: 67/100\n",
      "\n",
      "prediction_text repr: 'B'\n",
      "ground_truth repr:   'B'\n",
      "Progress: 68/100\n",
      "\n"
     ]
    },
    {
     "name": "stderr",
     "output_type": "stream",
     "text": [
      "Setting `pad_token_id` to `eos_token_id`:128009 for open-end generation.\n",
      "Setting `pad_token_id` to `eos_token_id`:128009 for open-end generation.\n"
     ]
    },
    {
     "name": "stdout",
     "output_type": "stream",
     "text": [
      "prediction_text repr: 'E'\n",
      "ground_truth repr:   'E'\n",
      "Progress: 69/100\n",
      "\n",
      "prediction_text repr: 'B'\n",
      "ground_truth repr:   'C'\n",
      "Progress: 70/100\n",
      "\n"
     ]
    },
    {
     "name": "stderr",
     "output_type": "stream",
     "text": [
      "Setting `pad_token_id` to `eos_token_id`:128009 for open-end generation.\n",
      "Setting `pad_token_id` to `eos_token_id`:128009 for open-end generation.\n"
     ]
    },
    {
     "name": "stdout",
     "output_type": "stream",
     "text": [
      "prediction_text repr: 'C'\n",
      "ground_truth repr:   'C'\n",
      "Progress: 71/100\n",
      "\n",
      "prediction_text repr: 'B'\n",
      "ground_truth repr:   'B'\n",
      "Progress: 72/100\n",
      "\n"
     ]
    },
    {
     "name": "stderr",
     "output_type": "stream",
     "text": [
      "Setting `pad_token_id` to `eos_token_id`:128009 for open-end generation.\n",
      "Setting `pad_token_id` to `eos_token_id`:128009 for open-end generation.\n"
     ]
    },
    {
     "name": "stdout",
     "output_type": "stream",
     "text": [
      "prediction_text repr: 'B'\n",
      "ground_truth repr:   'B'\n",
      "Progress: 73/100\n",
      "\n",
      "prediction_text repr: 'D'\n",
      "ground_truth repr:   'D'\n",
      "Progress: 74/100\n",
      "\n"
     ]
    },
    {
     "name": "stderr",
     "output_type": "stream",
     "text": [
      "Setting `pad_token_id` to `eos_token_id`:128009 for open-end generation.\n",
      "Setting `pad_token_id` to `eos_token_id`:128009 for open-end generation.\n"
     ]
    },
    {
     "name": "stdout",
     "output_type": "stream",
     "text": [
      "prediction_text repr: 'B'\n",
      "ground_truth repr:   'B'\n",
      "Progress: 75/100\n",
      "\n",
      "prediction_text repr: 'D'\n",
      "ground_truth repr:   'D'\n",
      "Progress: 76/100\n",
      "\n"
     ]
    },
    {
     "name": "stderr",
     "output_type": "stream",
     "text": [
      "Setting `pad_token_id` to `eos_token_id`:128009 for open-end generation.\n",
      "Setting `pad_token_id` to `eos_token_id`:128009 for open-end generation.\n"
     ]
    },
    {
     "name": "stdout",
     "output_type": "stream",
     "text": [
      "prediction_text repr: 'A'\n",
      "ground_truth repr:   'A'\n",
      "Progress: 77/100\n",
      "\n",
      "prediction_text repr: 'A'\n",
      "ground_truth repr:   'A'\n",
      "Progress: 78/100\n",
      "\n"
     ]
    },
    {
     "name": "stderr",
     "output_type": "stream",
     "text": [
      "Setting `pad_token_id` to `eos_token_id`:128009 for open-end generation.\n",
      "Setting `pad_token_id` to `eos_token_id`:128009 for open-end generation.\n"
     ]
    },
    {
     "name": "stdout",
     "output_type": "stream",
     "text": [
      "prediction_text repr: 'A'\n",
      "ground_truth repr:   'A'\n",
      "Progress: 79/100\n",
      "\n",
      "prediction_text repr: 'B'\n",
      "ground_truth repr:   'D'\n",
      "Progress: 80/100\n",
      "\n"
     ]
    },
    {
     "name": "stderr",
     "output_type": "stream",
     "text": [
      "Setting `pad_token_id` to `eos_token_id`:128009 for open-end generation.\n",
      "Setting `pad_token_id` to `eos_token_id`:128009 for open-end generation.\n"
     ]
    },
    {
     "name": "stdout",
     "output_type": "stream",
     "text": [
      "prediction_text repr: 'B'\n",
      "ground_truth repr:   'B'\n",
      "Progress: 81/100\n",
      "\n",
      "prediction_text repr: 'D'\n",
      "ground_truth repr:   'C'\n",
      "Progress: 82/100\n",
      "\n"
     ]
    },
    {
     "name": "stderr",
     "output_type": "stream",
     "text": [
      "Setting `pad_token_id` to `eos_token_id`:128009 for open-end generation.\n",
      "Setting `pad_token_id` to `eos_token_id`:128009 for open-end generation.\n"
     ]
    },
    {
     "name": "stdout",
     "output_type": "stream",
     "text": [
      "prediction_text repr: 'C'\n",
      "ground_truth repr:   'C'\n",
      "Progress: 83/100\n",
      "\n",
      "prediction_text repr: 'D'\n",
      "ground_truth repr:   'E'\n",
      "Progress: 84/100\n",
      "\n"
     ]
    },
    {
     "name": "stderr",
     "output_type": "stream",
     "text": [
      "Setting `pad_token_id` to `eos_token_id`:128009 for open-end generation.\n",
      "Setting `pad_token_id` to `eos_token_id`:128009 for open-end generation.\n"
     ]
    },
    {
     "name": "stdout",
     "output_type": "stream",
     "text": [
      "prediction_text repr: 'A'\n",
      "ground_truth repr:   'A'\n",
      "Progress: 85/100\n",
      "\n",
      "prediction_text repr: 'A'\n",
      "ground_truth repr:   'A'\n",
      "Progress: 86/100\n",
      "\n"
     ]
    },
    {
     "name": "stderr",
     "output_type": "stream",
     "text": [
      "Setting `pad_token_id` to `eos_token_id`:128009 for open-end generation.\n",
      "Setting `pad_token_id` to `eos_token_id`:128009 for open-end generation.\n"
     ]
    },
    {
     "name": "stdout",
     "output_type": "stream",
     "text": [
      "prediction_text repr: 'B'\n",
      "ground_truth repr:   'B'\n",
      "Progress: 87/100\n",
      "\n",
      "prediction_text repr: 'D'\n",
      "ground_truth repr:   'D'\n",
      "Progress: 88/100\n",
      "\n"
     ]
    },
    {
     "name": "stderr",
     "output_type": "stream",
     "text": [
      "Setting `pad_token_id` to `eos_token_id`:128009 for open-end generation.\n",
      "Setting `pad_token_id` to `eos_token_id`:128009 for open-end generation.\n"
     ]
    },
    {
     "name": "stdout",
     "output_type": "stream",
     "text": [
      "prediction_text repr: 'E'\n",
      "ground_truth repr:   'E'\n",
      "Progress: 89/100\n",
      "\n",
      "prediction_text repr: 'B'\n",
      "ground_truth repr:   'B'\n",
      "Progress: 90/100\n",
      "\n"
     ]
    },
    {
     "name": "stderr",
     "output_type": "stream",
     "text": [
      "Setting `pad_token_id` to `eos_token_id`:128009 for open-end generation.\n",
      "Setting `pad_token_id` to `eos_token_id`:128009 for open-end generation.\n"
     ]
    },
    {
     "name": "stdout",
     "output_type": "stream",
     "text": [
      "prediction_text repr: 'C'\n",
      "ground_truth repr:   'D'\n",
      "Progress: 91/100\n",
      "\n",
      "prediction_text repr: 'A'\n",
      "ground_truth repr:   'A'\n",
      "Progress: 92/100\n",
      "\n"
     ]
    },
    {
     "name": "stderr",
     "output_type": "stream",
     "text": [
      "Setting `pad_token_id` to `eos_token_id`:128009 for open-end generation.\n",
      "Setting `pad_token_id` to `eos_token_id`:128009 for open-end generation.\n"
     ]
    },
    {
     "name": "stdout",
     "output_type": "stream",
     "text": [
      "prediction_text repr: 'C'\n",
      "ground_truth repr:   'C'\n",
      "Progress: 93/100\n",
      "\n",
      "prediction_text repr: 'D'\n",
      "ground_truth repr:   'A'\n",
      "Progress: 94/100\n",
      "\n"
     ]
    },
    {
     "name": "stderr",
     "output_type": "stream",
     "text": [
      "Setting `pad_token_id` to `eos_token_id`:128009 for open-end generation.\n",
      "Setting `pad_token_id` to `eos_token_id`:128009 for open-end generation.\n"
     ]
    },
    {
     "name": "stdout",
     "output_type": "stream",
     "text": [
      "prediction_text repr: 'D'\n",
      "ground_truth repr:   'D'\n",
      "Progress: 95/100\n",
      "\n",
      "prediction_text repr: 'D'\n",
      "ground_truth repr:   'D'\n",
      "Progress: 96/100\n",
      "\n"
     ]
    },
    {
     "name": "stderr",
     "output_type": "stream",
     "text": [
      "Setting `pad_token_id` to `eos_token_id`:128009 for open-end generation.\n",
      "Setting `pad_token_id` to `eos_token_id`:128009 for open-end generation.\n"
     ]
    },
    {
     "name": "stdout",
     "output_type": "stream",
     "text": [
      "prediction_text repr: 'B'\n",
      "ground_truth repr:   'B'\n",
      "Progress: 97/100\n",
      "\n",
      "prediction_text repr: 'C'\n",
      "ground_truth repr:   'D'\n",
      "Progress: 98/100\n",
      "\n"
     ]
    },
    {
     "name": "stderr",
     "output_type": "stream",
     "text": [
      "Setting `pad_token_id` to `eos_token_id`:128009 for open-end generation.\n"
     ]
    },
    {
     "name": "stdout",
     "output_type": "stream",
     "text": [
      "prediction_text repr: 'B'\n",
      "ground_truth repr:   'B'\n",
      "Progress: 99/100\n",
      "\n",
      "prediction_text repr: 'C'\n",
      "ground_truth repr:   'C'\n",
      "Progress: 100/100\n",
      "\n",
      "\n",
      "Accuracy: 76.00% on the first 100 training samples.\n"
     ]
    }
   ],
   "source": [
    "from transformers import LogitsProcessorList, LogitsProcessor\n",
    "\n",
    "valid_tokens = [tokenizer.convert_tokens_to_ids(tk) for tk in ['A', 'B', 'C', 'D', 'E']]  \n",
    "logits_processor = LogitsProcessorList([RestrictToValidTokens(valid_tokens)])\n",
    "\n",
    "model.eval()  # switch to eval mode\n",
    "sample_texts = tokenized_ds['train']['text'][:200]\n",
    "ground_truths = tokenized_ds['train']['target_text'][:200]\n",
    "\n",
    "correct_predictions = 0\n",
    "\n",
    "for i, (sample_text, ground_truth) in enumerate(zip(sample_texts, ground_truths)):\n",
    "    inputs = tokenizer(sample_text, return_tensors=\"pt\").to(model.device)\n",
    "    with torch.no_grad():\n",
    "        outputs = model.generate(\n",
    "            **inputs,\n",
    "            max_new_tokens=1,\n",
    "            eos_token_id=tokenizer.eos_token_id,\n",
    "            do_sample=False,       # Greedy decoding\n",
    "            temperature=0.0,\n",
    "            logits_processor=logits_processor\n",
    "        )\n",
    "    generated_tokens = outputs[0][inputs['input_ids'].shape[1]:]\n",
    "    prediction_text = tokenizer.decode(generated_tokens, skip_special_tokens=True).strip()\n",
    "\n",
    "    print(f\"prediction_text repr: {repr(prediction_text)}\")\n",
    "    print(f\"ground_truth repr:   {repr(ground_truth.strip())}\")\n",
    "\n",
    "    if prediction_text == ground_truth.strip():\n",
    "        correct_predictions += 1\n",
    "        \n",
    "    print(f\"Progress: {i + 1}/{len(sample_texts)}\\n\")\n",
    "\n",
    "accuracy = correct_predictions / len(sample_texts) * 100\n",
    "print(f\"\\nAccuracy: {accuracy:.2f}% on the first 100 training samples.\")"
   ]
  },
  {
   "cell_type": "code",
   "execution_count": null,
   "metadata": {},
   "outputs": [],
   "source": []
  }
 ],
 "metadata": {
  "kernelspec": {
   "display_name": "llama_env",
   "language": "python",
   "name": "python3"
  },
  "language_info": {
   "codemirror_mode": {
    "name": "ipython",
    "version": 3
   },
   "file_extension": ".py",
   "mimetype": "text/x-python",
   "name": "python",
   "nbconvert_exporter": "python",
   "pygments_lexer": "ipython3",
   "version": "3.9.16"
  }
 },
 "nbformat": 4,
 "nbformat_minor": 2
}
